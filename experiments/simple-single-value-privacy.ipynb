{
 "cells": [
  {
   "cell_type": "markdown",
   "metadata": {},
   "source": [
    "# Single Value Privacy\n",
    "\n",
    "This notebook explores how we can implement differential privacy when the query response is a single numeric value. We will try to protect the genders of the members of the dataset. A lot of the concepts implemented here come from [this article](https://research.neustar.biz/2014/09/08/differential-privacy-the-basics/)."
   ]
  },
  {
   "cell_type": "code",
   "execution_count": 8,
   "metadata": {
    "collapsed": true
   },
   "outputs": [],
   "source": [
    "import psycopg2 as pg\n",
    "import pandas as pd\n",
    "\n",
    "# Database setup\n",
    "host = \"localhost\"\n",
    "database = \"cdm\"\n",
    "user = \"postgres\"\n",
    "password = %env PGPASSWORD\n",
    "connection_string = \"host={} dbname={} user={} password={}\".format(host, database, user, password)\n",
    "\n",
    "db = pg.connect(connection_string)"
   ]
  },
  {
   "cell_type": "code",
   "execution_count": 19,
   "metadata": {},
   "outputs": [
    {
     "data": {
      "text/html": [
       "<div>\n",
       "<style>\n",
       "    .dataframe thead tr:only-child th {\n",
       "        text-align: right;\n",
       "    }\n",
       "\n",
       "    .dataframe thead th {\n",
       "        text-align: left;\n",
       "    }\n",
       "\n",
       "    .dataframe tbody tr th {\n",
       "        vertical-align: top;\n",
       "    }\n",
       "</style>\n",
       "<table border=\"1\" class=\"dataframe\">\n",
       "  <thead>\n",
       "    <tr style=\"text-align: right;\">\n",
       "      <th></th>\n",
       "      <th>count</th>\n",
       "    </tr>\n",
       "  </thead>\n",
       "  <tbody>\n",
       "    <tr>\n",
       "      <th>0</th>\n",
       "      <td>64347</td>\n",
       "    </tr>\n",
       "  </tbody>\n",
       "</table>\n",
       "</div>"
      ],
      "text/plain": [
       "   count\n",
       "0  64347"
      ]
     },
     "execution_count": 19,
     "metadata": {},
     "output_type": "execute_result"
    }
   ],
   "source": [
    "# The subset of SynPUF data we use only has these two concepts for gender\n",
    "female_concept_id = 8532;\n",
    "male_concept_id = 8507;\n",
    "\n",
    "gender_count_query = \"SELECT COUNT(*) FROM person WHERE gender_concept_id = {};\".format(female_concept_id);\n",
    "\n",
    "pd.read_sql(gender_count_query, con=db)"
   ]
  },
  {
   "cell_type": "markdown",
   "metadata": {},
   "source": [
    "So we have exactly **64347** women in our dataset, and this is the number we need to protect, since someone could run the same query on a dataset without a single individual, and thus determine their gender (as shown in the [data exploration notebook](./data-exploration.ipynb)). To start, we need to understand what the _sensitivity_ of the query is. Determining this requires knowing your schema and your data, but the general formula is:\n",
    "\n",
    "$$\n",
    "\\Delta f = \\max_{D, D'} \\|f(D) - f(D')\\|_{1}\n",
    "$$\n",
    "\n",
    "where $\\|x\\|_{1}$ is the [L1 norm](https://en.wikipedia.org/wiki/Taxicab_geometry) of $x$. Intuitively, this is just the maximum difference in the values that a query $f$ can return on a pair of databases ($D$ and $D'$) that differ in only one row. In our case this means one person is added or removed from the database.\n",
    "\n",
    "The gender count query only returns one value (the count), and this value can only change by a maximum of 1 if we remove or add a person to the database. Therefore, our L1 norm for this query is 1. [Differential privacy theory](https://cacm.acm.org/magazines/2011/1/103226-a-firm-foundation-for-private-data-analysis/fulltext) tells us that by adding noise drawn from the $Laplace\\left(\\Delta f/\\epsilon\\right)$ distribution, we are guaranteed $\\epsilon$-differential privacy.\n",
    "\n",
    "There is one more thing to consider, which is that running the query multiple times will always reveal a bit more about the distribution (or value, if only a single number is returned) of the underlying data. We therefore need to think about $\\epsilon$ as $\\epsilon_{total}$ instead. So if we run the query $q$ times, we get:\n",
    "\n",
    "$$\n",
    "\\epsilon_{total} = \\sum^{q}_{i=1}{\\epsilon_i}\n",
    "$$\n",
    "\n",
    "We usually refer to $\\epsilon_{total}$ as the _privacy budget_, and each time we run a query, we are using up $\\epsilon_i$ of the budget.\n",
    "\n",
    "Below, we consider the case of a single run of the gender count query. Since we know that the _sensitivity_ of this query is $1$, we can use [NumPy](https://docs.scipy.org/doc/numpy/index.html) to generate random noise based on the value of $\\epsilon$ (controlled by the slider)."
   ]
  },
  {
   "cell_type": "code",
   "execution_count": 131,
   "metadata": {
    "scrolled": true
   },
   "outputs": [
    {
     "data": {
      "application/vnd.jupyter.widget-view+json": {
       "model_id": "92b5de37456846e3ba2cca862af86cd7",
       "version_major": 2,
       "version_minor": 0
      },
      "text/html": [
       "<p>Failed to display Jupyter Widget of type <code>FloatSlider</code>.</p>\n",
       "<p>\n",
       "  If you're reading this message in the Jupyter Notebook or JupyterLab Notebook, it may mean\n",
       "  that the widgets JavaScript is still loading. If this message persists, it\n",
       "  likely means that the widgets JavaScript library is either not installed or\n",
       "  not enabled. See the <a href=\"https://ipywidgets.readthedocs.io/en/stable/user_install.html\">Jupyter\n",
       "  Widgets Documentation</a> for setup instructions.\n",
       "</p>\n",
       "<p>\n",
       "  If you're reading this message in another frontend (for example, a static\n",
       "  rendering on GitHub or <a href=\"https://nbviewer.jupyter.org/\">NBViewer</a>),\n",
       "  it may mean that your frontend doesn't currently support widgets.\n",
       "</p>\n"
      ],
      "text/plain": [
       "FloatSlider(value=1.0, description='Epsilon', max=10.0, min=0.001, step=0.001)"
      ]
     },
     "metadata": {},
     "output_type": "display_data"
    },
    {
     "data": {
      "application/vnd.jupyter.widget-view+json": {
       "model_id": "a26a7339e8a141f38ef2341714a201a3",
       "version_major": 2,
       "version_minor": 0
      },
      "text/html": [
       "<p>Failed to display Jupyter Widget of type <code>Button</code>.</p>\n",
       "<p>\n",
       "  If you're reading this message in the Jupyter Notebook or JupyterLab Notebook, it may mean\n",
       "  that the widgets JavaScript is still loading. If this message persists, it\n",
       "  likely means that the widgets JavaScript library is either not installed or\n",
       "  not enabled. See the <a href=\"https://ipywidgets.readthedocs.io/en/stable/user_install.html\">Jupyter\n",
       "  Widgets Documentation</a> for setup instructions.\n",
       "</p>\n",
       "<p>\n",
       "  If you're reading this message in another frontend (for example, a static\n",
       "  rendering on GitHub or <a href=\"https://nbviewer.jupyter.org/\">NBViewer</a>),\n",
       "  it may mean that your frontend doesn't currently support widgets.\n",
       "</p>\n"
      ],
      "text/plain": [
       "Button(description='Run Query', style=ButtonStyle())"
      ]
     },
     "metadata": {},
     "output_type": "display_data"
    },
    {
     "data": {
      "application/vnd.jupyter.widget-view+json": {
       "model_id": "5c1d2cb4422e4c53875be423e9eea666",
       "version_major": 2,
       "version_minor": 0
      },
      "text/html": [
       "<p>Failed to display Jupyter Widget of type <code>Box</code>.</p>\n",
       "<p>\n",
       "  If you're reading this message in the Jupyter Notebook or JupyterLab Notebook, it may mean\n",
       "  that the widgets JavaScript is still loading. If this message persists, it\n",
       "  likely means that the widgets JavaScript library is either not installed or\n",
       "  not enabled. See the <a href=\"https://ipywidgets.readthedocs.io/en/stable/user_install.html\">Jupyter\n",
       "  Widgets Documentation</a> for setup instructions.\n",
       "</p>\n",
       "<p>\n",
       "  If you're reading this message in another frontend (for example, a static\n",
       "  rendering on GitHub or <a href=\"https://nbviewer.jupyter.org/\">NBViewer</a>),\n",
       "  it may mean that your frontend doesn't currently support widgets.\n",
       "</p>\n"
      ],
      "text/plain": [
       "Box()"
      ]
     },
     "metadata": {},
     "output_type": "display_data"
    }
   ],
   "source": [
    "from IPython.display import display\n",
    "from ipywidgets import interact, interactive, fixed, interact_manual\n",
    "import ipywidgets as widgets\n",
    "import numpy as np\n",
    "\n",
    "def run(button):\n",
    "    result = single_value_differential_privacy(gender_count_query, slider.value)\n",
    "    box.children = [widgets.Label(\"Result: \"), widgets.Label(value=str(result))]\n",
    "\n",
    "button = widgets.Button(description=\"Run Query\")\n",
    "button.on_click(run)\n",
    "\n",
    "box = widgets.Box()\n",
    "\n",
    "def single_value_differential_privacy(query=gender_count_query, epsilon=1):\n",
    "    \n",
    "    # Run the query\n",
    "    results = pd.read_sql(query, con=db)\n",
    "    count = results['count'][0]\n",
    "    \n",
    "    # Apply Laplacian randomness with $\\lamda = \\frac{1}{\\epsilon}$\n",
    "    # see https://docs.scipy.org/doc/numpy/reference/generated/numpy.random.laplace.html\n",
    "    noise = np.random.laplace(scale=1/epsilon);\n",
    "    \n",
    "    # Round the number since having a floating point count doesn't really make sense\n",
    "    return np.round(count + noise)\n",
    "\n",
    "slider = widgets.FloatSlider(min=0.001, max=10, value=1, step=0.001, description='Epsilon')\n",
    "\n",
    "display(slider)\n",
    "display(button)\n",
    "\n",
    "box"
   ]
  },
  {
   "cell_type": "markdown",
   "metadata": {},
   "source": [
    "The above value is the result of single query with $\\epsilon_{total} = \\epsilon = 1$. Notice that reducing the value of $\\epsilon$ increases the noise, and making it too large increases the likelihood that the true value (64347) is returned."
   ]
  },
  {
   "cell_type": "markdown",
   "metadata": {},
   "source": [
    "## Privacy Budget\n",
    "\n",
    "In practice, we need to be able to protect database members from an adversary when the query can be run multiple times. We will only consider the case when the exact same query is run at most $n$ times, and will not consider the problem of similar queries being used to extract the same data in a slightly different form.\n",
    "\n",
    "We define values for $\\epsilon_{total}$ and $n$, applying the differential privacy $\\epsilon_i = \\frac{\\epsilon_{total}}{n}$ each time, and display a histogram of the returned value."
   ]
  },
  {
   "cell_type": "code",
   "execution_count": 207,
   "metadata": {
    "scrolled": false
   },
   "outputs": [
    {
     "data": {
      "text/html": [
       "<script>requirejs.config({paths: { 'plotly': ['https://cdn.plot.ly/plotly-latest.min']},});if(!window.Plotly) {{require(['plotly'],function(plotly) {window.Plotly=plotly;});}}</script>"
      ],
      "text/vnd.plotly.v1+html": [
       "<script>requirejs.config({paths: { 'plotly': ['https://cdn.plot.ly/plotly-latest.min']},});if(!window.Plotly) {{require(['plotly'],function(plotly) {window.Plotly=plotly;});}}</script>"
      ]
     },
     "metadata": {},
     "output_type": "display_data"
    },
    {
     "data": {
      "application/vnd.jupyter.widget-view+json": {
       "model_id": "6f31d09ae7714b8ebbe7452797d616a4",
       "version_major": 2,
       "version_minor": 0
      },
      "text/html": [
       "<p>Failed to display Jupyter Widget of type <code>BoundedIntText</code>.</p>\n",
       "<p>\n",
       "  If you're reading this message in the Jupyter Notebook or JupyterLab Notebook, it may mean\n",
       "  that the widgets JavaScript is still loading. If this message persists, it\n",
       "  likely means that the widgets JavaScript library is either not installed or\n",
       "  not enabled. See the <a href=\"https://ipywidgets.readthedocs.io/en/stable/user_install.html\">Jupyter\n",
       "  Widgets Documentation</a> for setup instructions.\n",
       "</p>\n",
       "<p>\n",
       "  If you're reading this message in another frontend (for example, a static\n",
       "  rendering on GitHub or <a href=\"https://nbviewer.jupyter.org/\">NBViewer</a>),\n",
       "  it may mean that your frontend doesn't currently support widgets.\n",
       "</p>\n"
      ],
      "text/plain": [
       "BoundedIntText(value=10, description='n:', max=1000, min=1)"
      ]
     },
     "metadata": {},
     "output_type": "display_data"
    },
    {
     "data": {
      "application/vnd.jupyter.widget-view+json": {
       "model_id": "6c492f06f2b748dd930ed11a516181f8",
       "version_major": 2,
       "version_minor": 0
      },
      "text/html": [
       "<p>Failed to display Jupyter Widget of type <code>BoundedFloatText</code>.</p>\n",
       "<p>\n",
       "  If you're reading this message in the Jupyter Notebook or JupyterLab Notebook, it may mean\n",
       "  that the widgets JavaScript is still loading. If this message persists, it\n",
       "  likely means that the widgets JavaScript library is either not installed or\n",
       "  not enabled. See the <a href=\"https://ipywidgets.readthedocs.io/en/stable/user_install.html\">Jupyter\n",
       "  Widgets Documentation</a> for setup instructions.\n",
       "</p>\n",
       "<p>\n",
       "  If you're reading this message in another frontend (for example, a static\n",
       "  rendering on GitHub or <a href=\"https://nbviewer.jupyter.org/\">NBViewer</a>),\n",
       "  it may mean that your frontend doesn't currently support widgets.\n",
       "</p>\n"
      ],
      "text/plain": [
       "BoundedFloatText(value=10.0, description='$\\\\epsilon_{total}$:', min=1.0)"
      ]
     },
     "metadata": {},
     "output_type": "display_data"
    },
    {
     "data": {
      "application/vnd.jupyter.widget-view+json": {
       "model_id": "cd917a2c3aea488a85cc1d5621ade09c",
       "version_major": 2,
       "version_minor": 0
      },
      "text/html": [
       "<p>Failed to display Jupyter Widget of type <code>FloatProgress</code>.</p>\n",
       "<p>\n",
       "  If you're reading this message in the Jupyter Notebook or JupyterLab Notebook, it may mean\n",
       "  that the widgets JavaScript is still loading. If this message persists, it\n",
       "  likely means that the widgets JavaScript library is either not installed or\n",
       "  not enabled. See the <a href=\"https://ipywidgets.readthedocs.io/en/stable/user_install.html\">Jupyter\n",
       "  Widgets Documentation</a> for setup instructions.\n",
       "</p>\n",
       "<p>\n",
       "  If you're reading this message in another frontend (for example, a static\n",
       "  rendering on GitHub or <a href=\"https://nbviewer.jupyter.org/\">NBViewer</a>),\n",
       "  it may mean that your frontend doesn't currently support widgets.\n",
       "</p>\n"
      ],
      "text/plain": [
       "FloatProgress(value=0.0, description='Progress:')"
      ]
     },
     "metadata": {},
     "output_type": "display_data"
    },
    {
     "data": {
      "application/vnd.jupyter.widget-view+json": {
       "model_id": "3209a22c42e042499ef92c9294bbaae3",
       "version_major": 2,
       "version_minor": 0
      },
      "text/html": [
       "<p>Failed to display Jupyter Widget of type <code>Button</code>.</p>\n",
       "<p>\n",
       "  If you're reading this message in the Jupyter Notebook or JupyterLab Notebook, it may mean\n",
       "  that the widgets JavaScript is still loading. If this message persists, it\n",
       "  likely means that the widgets JavaScript library is either not installed or\n",
       "  not enabled. See the <a href=\"https://ipywidgets.readthedocs.io/en/stable/user_install.html\">Jupyter\n",
       "  Widgets Documentation</a> for setup instructions.\n",
       "</p>\n",
       "<p>\n",
       "  If you're reading this message in another frontend (for example, a static\n",
       "  rendering on GitHub or <a href=\"https://nbviewer.jupyter.org/\">NBViewer</a>),\n",
       "  it may mean that your frontend doesn't currently support widgets.\n",
       "</p>\n"
      ],
      "text/plain": [
       "Button(description='Run Attack', style=ButtonStyle())"
      ]
     },
     "metadata": {},
     "output_type": "display_data"
    },
    {
     "data": {
      "application/vnd.plotly.v1+json": {
       "data": [
        {
         "name": "n = 10, budget = 10.0",
         "type": "histogram",
         "x": [
          64348,
          64347,
          64347,
          64348,
          64348,
          64347,
          64346,
          64347,
          64347,
          64346
         ]
        }
       ],
       "layout": {
        "bargap": 0.2,
        "showlegend": true,
        "title": "Gender Count Attack Results",
        "xaxis": {
         "exponentformat": "none",
         "tickangle": 300,
         "title": "Female Count"
        },
        "yaxis": {
         "title": "Occurences"
        }
       }
      },
      "text/html": [
       "<div id=\"338dadf6-4b76-4a38-b286-4c2db9a68ba9\" style=\"height: 525px; width: 100%;\" class=\"plotly-graph-div\"></div><script type=\"text/javascript\">require([\"plotly\"], function(Plotly) { window.PLOTLYENV=window.PLOTLYENV || {};window.PLOTLYENV.BASE_URL=\"https://plot.ly\";Plotly.newPlot(\"338dadf6-4b76-4a38-b286-4c2db9a68ba9\", [{\"type\": \"histogram\", \"x\": [64348.0, 64347.0, 64347.0, 64348.0, 64348.0, 64347.0, 64346.0, 64347.0, 64347.0, 64346.0], \"name\": \"n = 10, budget = 10.0\"}], {\"title\": \"Gender Count Attack Results\", \"xaxis\": {\"title\": \"Female Count\", \"tickangle\": 300, \"exponentformat\": \"none\"}, \"yaxis\": {\"title\": \"Occurences\"}, \"showlegend\": true, \"bargap\": 0.2}, {\"showLink\": true, \"linkText\": \"Export to plot.ly\"})});</script>"
      ],
      "text/vnd.plotly.v1+html": [
       "<div id=\"338dadf6-4b76-4a38-b286-4c2db9a68ba9\" style=\"height: 525px; width: 100%;\" class=\"plotly-graph-div\"></div><script type=\"text/javascript\">require([\"plotly\"], function(Plotly) { window.PLOTLYENV=window.PLOTLYENV || {};window.PLOTLYENV.BASE_URL=\"https://plot.ly\";Plotly.newPlot(\"338dadf6-4b76-4a38-b286-4c2db9a68ba9\", [{\"type\": \"histogram\", \"x\": [64348.0, 64347.0, 64347.0, 64348.0, 64348.0, 64347.0, 64346.0, 64347.0, 64347.0, 64346.0], \"name\": \"n = 10, budget = 10.0\"}], {\"title\": \"Gender Count Attack Results\", \"xaxis\": {\"title\": \"Female Count\", \"tickangle\": 300, \"exponentformat\": \"none\"}, \"yaxis\": {\"title\": \"Occurences\"}, \"showlegend\": true, \"bargap\": 0.2}, {\"showLink\": true, \"linkText\": \"Export to plot.ly\"})});</script>"
      ]
     },
     "metadata": {},
     "output_type": "display_data"
    },
    {
     "data": {
      "application/vnd.plotly.v1+json": {
       "data": [
        {
         "name": "n = 100, budget = 10.0",
         "type": "histogram",
         "x": [
          64324,
          64351,
          64332,
          64346,
          64343,
          64343,
          64362,
          64342,
          64343,
          64348,
          64348,
          64334,
          64339,
          64351,
          64368,
          64327,
          64350,
          64372,
          64337,
          64356,
          64379,
          64331,
          64339,
          64348,
          64359,
          64347,
          64308,
          64370,
          64355,
          64327,
          64333,
          64320,
          64346,
          64364,
          64349,
          64365,
          64346,
          64372,
          64342,
          64343,
          64341,
          64332,
          64344,
          64340,
          64331,
          64343,
          64347,
          64340,
          64349,
          64330,
          64346,
          64351,
          64346,
          64350,
          64358,
          64359,
          64340,
          64312,
          64346,
          64332,
          64326,
          64328,
          64346,
          64346,
          64351,
          64346,
          64372,
          64369,
          64337,
          64349,
          64329,
          64334,
          64353,
          64370,
          64350,
          64312,
          64336,
          64353,
          64349,
          64347,
          64355,
          64344,
          64354,
          64339,
          64349,
          64355,
          64348,
          64344,
          64361,
          64351,
          64371,
          64351,
          64334,
          64352,
          64362,
          64359,
          64351,
          64390,
          64344,
          64388
         ]
        }
       ],
       "layout": {
        "bargap": 0.2,
        "showlegend": true,
        "title": "Gender Count Attack Results",
        "xaxis": {
         "exponentformat": "none",
         "tickangle": 300,
         "title": "Female Count"
        },
        "yaxis": {
         "title": "Occurences"
        }
       }
      },
      "text/html": [
       "<div id=\"9bb05439-8261-4914-95e9-21eb0d4f5a93\" style=\"height: 525px; width: 100%;\" class=\"plotly-graph-div\"></div><script type=\"text/javascript\">require([\"plotly\"], function(Plotly) { window.PLOTLYENV=window.PLOTLYENV || {};window.PLOTLYENV.BASE_URL=\"https://plot.ly\";Plotly.newPlot(\"9bb05439-8261-4914-95e9-21eb0d4f5a93\", [{\"type\": \"histogram\", \"x\": [64324.0, 64351.0, 64332.0, 64346.0, 64343.0, 64343.0, 64362.0, 64342.0, 64343.0, 64348.0, 64348.0, 64334.0, 64339.0, 64351.0, 64368.0, 64327.0, 64350.0, 64372.0, 64337.0, 64356.0, 64379.0, 64331.0, 64339.0, 64348.0, 64359.0, 64347.0, 64308.0, 64370.0, 64355.0, 64327.0, 64333.0, 64320.0, 64346.0, 64364.0, 64349.0, 64365.0, 64346.0, 64372.0, 64342.0, 64343.0, 64341.0, 64332.0, 64344.0, 64340.0, 64331.0, 64343.0, 64347.0, 64340.0, 64349.0, 64330.0, 64346.0, 64351.0, 64346.0, 64350.0, 64358.0, 64359.0, 64340.0, 64312.0, 64346.0, 64332.0, 64326.0, 64328.0, 64346.0, 64346.0, 64351.0, 64346.0, 64372.0, 64369.0, 64337.0, 64349.0, 64329.0, 64334.0, 64353.0, 64370.0, 64350.0, 64312.0, 64336.0, 64353.0, 64349.0, 64347.0, 64355.0, 64344.0, 64354.0, 64339.0, 64349.0, 64355.0, 64348.0, 64344.0, 64361.0, 64351.0, 64371.0, 64351.0, 64334.0, 64352.0, 64362.0, 64359.0, 64351.0, 64390.0, 64344.0, 64388.0], \"name\": \"n = 100, budget = 10.0\"}], {\"title\": \"Gender Count Attack Results\", \"xaxis\": {\"title\": \"Female Count\", \"tickangle\": 300, \"exponentformat\": \"none\"}, \"yaxis\": {\"title\": \"Occurences\"}, \"showlegend\": true, \"bargap\": 0.2}, {\"showLink\": true, \"linkText\": \"Export to plot.ly\"})});</script>"
      ],
      "text/vnd.plotly.v1+html": [
       "<div id=\"9bb05439-8261-4914-95e9-21eb0d4f5a93\" style=\"height: 525px; width: 100%;\" class=\"plotly-graph-div\"></div><script type=\"text/javascript\">require([\"plotly\"], function(Plotly) { window.PLOTLYENV=window.PLOTLYENV || {};window.PLOTLYENV.BASE_URL=\"https://plot.ly\";Plotly.newPlot(\"9bb05439-8261-4914-95e9-21eb0d4f5a93\", [{\"type\": \"histogram\", \"x\": [64324.0, 64351.0, 64332.0, 64346.0, 64343.0, 64343.0, 64362.0, 64342.0, 64343.0, 64348.0, 64348.0, 64334.0, 64339.0, 64351.0, 64368.0, 64327.0, 64350.0, 64372.0, 64337.0, 64356.0, 64379.0, 64331.0, 64339.0, 64348.0, 64359.0, 64347.0, 64308.0, 64370.0, 64355.0, 64327.0, 64333.0, 64320.0, 64346.0, 64364.0, 64349.0, 64365.0, 64346.0, 64372.0, 64342.0, 64343.0, 64341.0, 64332.0, 64344.0, 64340.0, 64331.0, 64343.0, 64347.0, 64340.0, 64349.0, 64330.0, 64346.0, 64351.0, 64346.0, 64350.0, 64358.0, 64359.0, 64340.0, 64312.0, 64346.0, 64332.0, 64326.0, 64328.0, 64346.0, 64346.0, 64351.0, 64346.0, 64372.0, 64369.0, 64337.0, 64349.0, 64329.0, 64334.0, 64353.0, 64370.0, 64350.0, 64312.0, 64336.0, 64353.0, 64349.0, 64347.0, 64355.0, 64344.0, 64354.0, 64339.0, 64349.0, 64355.0, 64348.0, 64344.0, 64361.0, 64351.0, 64371.0, 64351.0, 64334.0, 64352.0, 64362.0, 64359.0, 64351.0, 64390.0, 64344.0, 64388.0], \"name\": \"n = 100, budget = 10.0\"}], {\"title\": \"Gender Count Attack Results\", \"xaxis\": {\"title\": \"Female Count\", \"tickangle\": 300, \"exponentformat\": \"none\"}, \"yaxis\": {\"title\": \"Occurences\"}, \"showlegend\": true, \"bargap\": 0.2}, {\"showLink\": true, \"linkText\": \"Export to plot.ly\"})});</script>"
      ]
     },
     "metadata": {},
     "output_type": "display_data"
    }
   ],
   "source": [
    "from IPython.display import display\n",
    "from ipywidgets import interact, interactive, fixed, interact_manual\n",
    "import ipywidgets as widgets\n",
    "import numpy as np\n",
    "from plotly.offline import download_plotlyjs, init_notebook_mode, iplot\n",
    "import plotly.graph_objs as go\n",
    "\n",
    "# This is to use ployly offline\n",
    "init_notebook_mode(connected=True)\n",
    "\n",
    "iframe = None\n",
    "\n",
    "# Number of query runs (n)\n",
    "n = widgets.BoundedIntText(value=10, min=1, max=1000, description='n:')\n",
    "\n",
    "# Privacy budget (\\epsilon_{total})\n",
    "budget = widgets.BoundedFloatText(value=10, min=1, description=r'$\\epsilon_{total}$:')\n",
    "\n",
    "# Fancy progress bar 🎩\n",
    "progress = widgets.FloatProgress(min=0,max=100, step=1, description='Progress:')\n",
    "\n",
    "\n",
    "def run(button):\n",
    "    results = []\n",
    "    epsilon_i = budget.value / n.value\n",
    "    \n",
    "    for i in range(0, n.value):\n",
    "        results.append(single_value_differential_privacy(epsilon=epsilon_i))\n",
    "        progress.value = (i + 1) / n.value * 100\n",
    "        \n",
    "    data = [go.Histogram(x=results, name=\"n = {}, budget = {}\".format(n.value, budget.value))]\n",
    "    layout = go.Layout(\n",
    "        title='Gender Count Attack Results', \n",
    "        xaxis={'title':'Female Count', 'tickangle': 300, 'exponentformat': 'none'}, \n",
    "        yaxis={'title':'Occurences'},\n",
    "        showlegend=True,\n",
    "        bargap=0.2)\n",
    "    \n",
    "    iplot({\"data\": data, \"layout\": layout})        \n",
    "\n",
    "button = widgets.Button(description=\"Run Attack\")\n",
    "button.on_click(run)\n",
    "\n",
    "display(n)\n",
    "display(budget)\n",
    "display(progress)\n",
    "display(button)"
   ]
  },
  {
   "cell_type": "code",
   "execution_count": null,
   "metadata": {
    "collapsed": true
   },
   "outputs": [],
   "source": []
  }
 ],
 "metadata": {
  "kernelspec": {
   "display_name": "Python 3",
   "language": "python",
   "name": "python3"
  },
  "language_info": {
   "codemirror_mode": {
    "name": "ipython",
    "version": 3
   },
   "file_extension": ".py",
   "mimetype": "text/x-python",
   "name": "python",
   "nbconvert_exporter": "python",
   "pygments_lexer": "ipython3",
   "version": "3.6.3"
  }
 },
 "nbformat": 4,
 "nbformat_minor": 2
}
