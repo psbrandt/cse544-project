{
 "cells": [
  {
   "cell_type": "markdown",
   "metadata": {},
   "source": [
    "# Single Value Privacy\n",
    "\n",
    "This notebook explores how we can implement differential privacy when the query response is a single numeric value. We will try to protect the genders of the members of the dataset. A lot of the concepts implemented here come from [this article](https://research.neustar.biz/2014/09/08/differential-privacy-the-basics/)."
   ]
  },
  {
   "cell_type": "code",
   "execution_count": 8,
   "metadata": {
    "collapsed": true
   },
   "outputs": [],
   "source": [
    "import psycopg2 as pg\n",
    "import pandas as pd\n",
    "\n",
    "# Database setup\n",
    "host = \"localhost\"\n",
    "database = \"cdm\"\n",
    "user = \"postgres\"\n",
    "password = %env PGPASSWORD\n",
    "connection_string = \"host={} dbname={} user={} password={}\".format(host, database, user, password)\n",
    "\n",
    "db = pg.connect(connection_string)"
   ]
  },
  {
   "cell_type": "code",
   "execution_count": 19,
   "metadata": {},
   "outputs": [
    {
     "data": {
      "text/html": [
       "<div>\n",
       "<style>\n",
       "    .dataframe thead tr:only-child th {\n",
       "        text-align: right;\n",
       "    }\n",
       "\n",
       "    .dataframe thead th {\n",
       "        text-align: left;\n",
       "    }\n",
       "\n",
       "    .dataframe tbody tr th {\n",
       "        vertical-align: top;\n",
       "    }\n",
       "</style>\n",
       "<table border=\"1\" class=\"dataframe\">\n",
       "  <thead>\n",
       "    <tr style=\"text-align: right;\">\n",
       "      <th></th>\n",
       "      <th>count</th>\n",
       "    </tr>\n",
       "  </thead>\n",
       "  <tbody>\n",
       "    <tr>\n",
       "      <th>0</th>\n",
       "      <td>64347</td>\n",
       "    </tr>\n",
       "  </tbody>\n",
       "</table>\n",
       "</div>"
      ],
      "text/plain": [
       "   count\n",
       "0  64347"
      ]
     },
     "execution_count": 19,
     "metadata": {},
     "output_type": "execute_result"
    }
   ],
   "source": [
    "# The subset of SynPUF data we use only has these two concepts for gender\n",
    "female_concept_id = 8532;\n",
    "male_concept_id = 8507;\n",
    "\n",
    "gender_count_query = \"SELECT COUNT(*) FROM person WHERE gender_concept_id = {};\".format(female_concept_id);\n",
    "\n",
    "pd.read_sql(gender_count_query, con=db)"
   ]
  },
  {
   "cell_type": "markdown",
   "metadata": {},
   "source": [
    "So we have exactly **64347** women in our dataset, and this is the number we need to protect, since someone could run the same query on a dataset without a single individual, and thus determine their gender (as shown in the [data exploration notebook](./data-exploration.ipynb)). To start, we need to understand what the _sensitivity_ of the query is. Determining this requires knowing your schema and your data, but the general formula is:\n",
    "\n",
    "$$\n",
    "\\Delta f = \\max_{D, D'} \\|f(D) - f(D')\\|_{1}\n",
    "$$\n",
    "\n",
    "where $\\|x\\|_{1}$ is the [L1 norm](https://en.wikipedia.org/wiki/Taxicab_geometry) of $x$. Intuitively, this is just the maximum difference in the values that a query $f$ can return on a pair of databases ($D$ and $D'$) that differ in only one row. In our case this means one person is added or removed from the database.\n",
    "\n",
    "The gender count query only returns one value (the count), and this value can only change by a maximum of 1 if we remove or add a person to the database. Therefore, our L1 norm for this query is 1. [Differential privacy theory](https://cacm.acm.org/magazines/2011/1/103226-a-firm-foundation-for-private-data-analysis/fulltext) tells us that by adding noise drawn from the $Laplace\\left(\\Delta f/\\epsilon\\right)$ distribution, we are guaranteed $\\epsilon$-differential privacy.\n",
    "\n",
    "There is one more thing to consider, which is that running the query multiple times will always reveal a bit more about the distribution (or value, if only a single number is returned) of the underlying data. We therefore need to think about $\\epsilon$ as $\\epsilon_{total}$ instead. So if we run the query $q$ times, we get:\n",
    "\n",
    "$$\n",
    "\\epsilon_{total} = \\sum^{q}_{i=1}{\\epsilon_i}\n",
    "$$\n",
    "\n",
    "We usually refer to $\\epsilon_{total}$ as the _privacy budget_, and each time we run a query, we are using up $\\epsilon_i$ of the budget.\n",
    "\n",
    "Below, we consider the case of a single run of the gender count query. Since we know that the _sensitivity_ of this query is $1$, we can use [NumPy](https://docs.scipy.org/doc/numpy/index.html) to generate random noise based on the value of $\\epsilon$ (controlled by the slider)."
   ]
  },
  {
   "cell_type": "code",
   "execution_count": 114,
   "metadata": {
    "scrolled": true
   },
   "outputs": [
    {
     "data": {
      "application/vnd.jupyter.widget-view+json": {
       "model_id": "7b03f339061b4b158130d5ef300852f8",
       "version_major": 2,
       "version_minor": 0
      },
      "text/html": [
       "<p>Failed to display Jupyter Widget of type <code>FloatSlider</code>.</p>\n",
       "<p>\n",
       "  If you're reading this message in the Jupyter Notebook or JupyterLab Notebook, it may mean\n",
       "  that the widgets JavaScript is still loading. If this message persists, it\n",
       "  likely means that the widgets JavaScript library is either not installed or\n",
       "  not enabled. See the <a href=\"https://ipywidgets.readthedocs.io/en/stable/user_install.html\">Jupyter\n",
       "  Widgets Documentation</a> for setup instructions.\n",
       "</p>\n",
       "<p>\n",
       "  If you're reading this message in another frontend (for example, a static\n",
       "  rendering on GitHub or <a href=\"https://nbviewer.jupyter.org/\">NBViewer</a>),\n",
       "  it may mean that your frontend doesn't currently support widgets.\n",
       "</p>\n"
      ],
      "text/plain": [
       "FloatSlider(value=1.0, description='Epsilon', max=10.0, min=0.001, step=0.001)"
      ]
     },
     "metadata": {},
     "output_type": "display_data"
    },
    {
     "data": {
      "application/vnd.jupyter.widget-view+json": {
       "model_id": "b005f95dfd7c41668c5fb88aebbea9ad",
       "version_major": 2,
       "version_minor": 0
      },
      "text/html": [
       "<p>Failed to display Jupyter Widget of type <code>Button</code>.</p>\n",
       "<p>\n",
       "  If you're reading this message in the Jupyter Notebook or JupyterLab Notebook, it may mean\n",
       "  that the widgets JavaScript is still loading. If this message persists, it\n",
       "  likely means that the widgets JavaScript library is either not installed or\n",
       "  not enabled. See the <a href=\"https://ipywidgets.readthedocs.io/en/stable/user_install.html\">Jupyter\n",
       "  Widgets Documentation</a> for setup instructions.\n",
       "</p>\n",
       "<p>\n",
       "  If you're reading this message in another frontend (for example, a static\n",
       "  rendering on GitHub or <a href=\"https://nbviewer.jupyter.org/\">NBViewer</a>),\n",
       "  it may mean that your frontend doesn't currently support widgets.\n",
       "</p>\n"
      ],
      "text/plain": [
       "Button(description='Run Query', style=ButtonStyle())"
      ]
     },
     "metadata": {},
     "output_type": "display_data"
    },
    {
     "data": {
      "application/vnd.jupyter.widget-view+json": {
       "model_id": "68080468c25e4cd6baa438ca43853c65",
       "version_major": 2,
       "version_minor": 0
      },
      "text/html": [
       "<p>Failed to display Jupyter Widget of type <code>Box</code>.</p>\n",
       "<p>\n",
       "  If you're reading this message in the Jupyter Notebook or JupyterLab Notebook, it may mean\n",
       "  that the widgets JavaScript is still loading. If this message persists, it\n",
       "  likely means that the widgets JavaScript library is either not installed or\n",
       "  not enabled. See the <a href=\"https://ipywidgets.readthedocs.io/en/stable/user_install.html\">Jupyter\n",
       "  Widgets Documentation</a> for setup instructions.\n",
       "</p>\n",
       "<p>\n",
       "  If you're reading this message in another frontend (for example, a static\n",
       "  rendering on GitHub or <a href=\"https://nbviewer.jupyter.org/\">NBViewer</a>),\n",
       "  it may mean that your frontend doesn't currently support widgets.\n",
       "</p>\n"
      ],
      "text/plain": [
       "Box()"
      ]
     },
     "metadata": {},
     "output_type": "display_data"
    }
   ],
   "source": [
    "from IPython.display import display\n",
    "from ipywidgets import interact, interactive, fixed, interact_manual\n",
    "import ipywidgets as widgets\n",
    "import numpy as np\n",
    "\n",
    "def run(button):\n",
    "    result = single_value_differential_privacy(gender_count_query, slider.value)\n",
    "    box.children = [widgets.Label(\"Result: \"), widgets.Label(value=str(result))]\n",
    "\n",
    "button = widgets.Button(description=\"Run Query\")\n",
    "button.on_click(run)\n",
    "\n",
    "box = widgets.Box()\n",
    "\n",
    "def single_value_differential_privacy(query, epsilon=1):\n",
    "    \n",
    "    # Run the query\n",
    "    results = pd.read_sql(query, con=db)\n",
    "    count = results['count'][0]\n",
    "    \n",
    "    # Apply Laplacian randomness with $\\lamda = \\frac{1}{\\epsilon}$\n",
    "    # see https://docs.scipy.org/doc/numpy/reference/generated/numpy.random.laplace.html\n",
    "    noise = np.random.laplace(scale=1/epsilon);\n",
    "    \n",
    "    # Round the number since having a floating point count doesn't really make sense\n",
    "    return np.round(count + noise)\n",
    "\n",
    "slider = widgets.FloatSlider(min=0.001, max=10, value=1, step=0.001, description='Epsilon')\n",
    "\n",
    "display(slider)\n",
    "display(button)\n",
    "\n",
    "box"
   ]
  },
  {
   "cell_type": "markdown",
   "metadata": {},
   "source": [
    "The above value is the result of single query with $\\epsilon_{total} = \\epsilon = 1$. Notice that reducing the value of $\\epsilon$ increases the noise, and making it too large increases the likelihood that the true value (64347) is returned."
   ]
  }
 ],
 "metadata": {
  "kernelspec": {
   "display_name": "Python 3",
   "language": "python",
   "name": "python3"
  },
  "language_info": {
   "codemirror_mode": {
    "name": "ipython",
    "version": 3
   },
   "file_extension": ".py",
   "mimetype": "text/x-python",
   "name": "python",
   "nbconvert_exporter": "python",
   "pygments_lexer": "ipython3",
   "version": "3.6.3"
  }
 },
 "nbformat": 4,
 "nbformat_minor": 2
}
