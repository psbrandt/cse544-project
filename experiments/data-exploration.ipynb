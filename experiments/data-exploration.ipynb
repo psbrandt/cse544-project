{
 "cells": [
  {
   "cell_type": "code",
   "execution_count": 8,
   "metadata": {},
   "outputs": [],
   "source": [
    "import psycopg2 as pg\n",
    "import pandas as pd\n",
    "\n",
    "# Database setup\n",
    "host = \"localhost\"\n",
    "database = \"cdm\"\n",
    "user = \"postgres\"\n",
    "password = %env PGPASSWORD\n",
    "connection_string = \"host={} dbname={} user={} password={}\".format(host, database, user, password)\n",
    "\n",
    "db = pg.connect(connection_string)"
   ]
  },
  {
   "cell_type": "markdown",
   "metadata": {},
   "source": [
    "# Basic Row Counts\n",
    "\n",
    "Get basic (not 100% accurate) row counts from the `pg_stat_user_tables` table."
   ]
  },
  {
   "cell_type": "code",
   "execution_count": 19,
   "metadata": {},
   "outputs": [
    {
     "name": "stdout",
     "output_type": "stream",
     "text": [
      "                   Table  Row Count\n",
      "0         procedure_cost   31821624\n",
      "1   condition_occurrence   14455883\n",
      "2   procedure_occurrence   13926500\n",
      "3   concept_relationship    9254447\n",
      "4       concept_ancestor    8612675\n",
      "5          drug_exposure    6303448\n",
      "6       visit_occurrence    5579533\n",
      "7              drug_cost    5552376\n",
      "8            measurement    3704927\n",
      "9        concept_synonym    3391372\n",
      "10               concept    2065005\n",
      "11           observation    1876834\n",
      "12              provider     635456\n",
      "13     payer_plan_period     389231\n",
      "14             care_site     239158\n",
      "15       device_exposure     224505\n",
      "16         drug_strength     195736\n",
      "17                person     116352\n",
      "18    observation_period     104891\n",
      "19                 death       5461\n",
      "20              location       3088\n",
      "21          relationship        442\n",
      "22         concept_class        315\n",
      "23                domain         40\n",
      "24            vocabulary         27\n"
     ]
    }
   ],
   "source": [
    "df = pd.read_sql('select relname as \"Table\", n_live_tup \"Row Count\" from pg_stat_user_tables where n_live_tup > 0 order by n_live_tup desc', con=db)\n",
    "print(df)"
   ]
  },
  {
   "cell_type": "markdown",
   "metadata": {},
   "source": [
    "# Identify Diabetes Patients\n",
    "\n",
    "Try to figure who has had diabetes. Start with trying to find the concepts that represent diabetes."
   ]
  },
  {
   "cell_type": "code",
   "execution_count": 20,
   "metadata": {},
   "outputs": [
    {
     "name": "stdout",
     "output_type": "stream",
     "text": [
      "   count\n",
      "0   1121\n"
     ]
    }
   ],
   "source": [
    "print(pd.read_sql(\"SELECT count(*) FROM concept WHERE concept_name LIKE '%Diabetes%' OR concept_name LIKE '%diabetes%'\", con=db))"
   ]
  },
  {
   "cell_type": "markdown",
   "metadata": {},
   "source": [
    "We are actually only looking for conditions that are clinical findings, so we can do better:"
   ]
  },
  {
   "cell_type": "code",
   "execution_count": 21,
   "metadata": {},
   "outputs": [
    {
     "name": "stdout",
     "output_type": "stream",
     "text": [
      "   count\n",
      "0    605\n"
     ]
    }
   ],
   "source": [
    "diabetes_concepts_query = \"\"\"\n",
    "SELECT\n",
    "  count(*)\n",
    "FROM\n",
    "  concept\n",
    "WHERE\n",
    "  (\n",
    "    concept_name LIKE '%Diabetes%'\n",
    "    OR concept_name LIKE '%diabetes%'\n",
    "  )\n",
    "  AND domain_id = 'Condition'\n",
    "  AND concept_class_id = 'Clinical Finding' LIMIT 1000;\"\"\"\n",
    "\n",
    "print(pd.read_sql(diabetes_concepts_query, con=db))"
   ]
  },
  {
   "cell_type": "markdown",
   "metadata": {},
   "source": [
    "With this limited subset of concepts, we can count the number of people that have ever had a condition matching one of those codes as follows:"
   ]
  },
  {
   "cell_type": "code",
   "execution_count": 22,
   "metadata": {},
   "outputs": [
    {
     "name": "stdout",
     "output_type": "stream",
     "text": [
      "   count\n",
      "0  81051\n"
     ]
    }
   ],
   "source": [
    "diabetes_patient_count = \"\"\"\n",
    "SELECT\n",
    "  COUNT( DISTINCT person_id )\n",
    "FROM\n",
    "  condition_occurrence\n",
    "WHERE\n",
    "  condition_concept_id IN(\n",
    "    SELECT\n",
    "      concept_id\n",
    "    FROM\n",
    "      concept\n",
    "    WHERE\n",
    "      (\n",
    "        concept_name LIKE '%Diabetes%'\n",
    "        OR concept_name LIKE '%diabetes%'\n",
    "      )\n",
    "      AND domain_id = 'Condition'\n",
    "      AND concept_class_id = 'Clinical Finding' LIMIT 1000\n",
    "  );\"\"\"\n",
    "\n",
    "print(pd.read_sql(diabetes_patient_count, con=db))"
   ]
  },
  {
   "cell_type": "markdown",
   "metadata": {},
   "source": [
    "Using this simple count query, we can still discover if a person (e.g. the person with `person_id = 2`) has diabetes or not:"
   ]
  },
  {
   "cell_type": "code",
   "execution_count": 24,
   "metadata": {},
   "outputs": [
    {
     "name": "stdout",
     "output_type": "stream",
     "text": [
      "   count\n",
      "0  81050\n"
     ]
    }
   ],
   "source": [
    "diabetes_patient_count = \"\"\"\n",
    "SELECT\n",
    "  COUNT( DISTINCT person_id )\n",
    "FROM\n",
    "  condition_occurrence\n",
    "WHERE\n",
    "  condition_concept_id IN(\n",
    "    SELECT\n",
    "      concept_id\n",
    "    FROM\n",
    "      concept\n",
    "    WHERE\n",
    "      (\n",
    "        concept_name LIKE '%Diabetes%'\n",
    "        OR concept_name LIKE '%diabetes%'\n",
    "      )\n",
    "      AND domain_id = 'Condition'\n",
    "      AND concept_class_id = 'Clinical Finding' LIMIT 1000\n",
    "  ) AND person_id != 2;\"\"\"\n",
    "\n",
    "print(pd.read_sql(diabetes_patient_count, con=db))"
   ]
  },
  {
   "cell_type": "markdown",
   "metadata": {},
   "source": [
    "Since the number retured is one fewer, we can deduce that the person with `person_id = 2` does have diabe"
   ]
  }
 ],
 "metadata": {
  "kernelspec": {
   "display_name": "Python 3",
   "language": "python",
   "name": "python3"
  },
  "language_info": {
   "codemirror_mode": {
    "name": "ipython",
    "version": 3
   },
   "file_extension": ".py",
   "mimetype": "text/x-python",
   "name": "python",
   "nbconvert_exporter": "python",
   "pygments_lexer": "ipython3",
   "version": "3.6.3"
  }
 },
 "nbformat": 4,
 "nbformat_minor": 2
}
