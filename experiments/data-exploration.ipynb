{
 "cells": [
  {
   "cell_type": "code",
   "execution_count": 8,
   "metadata": {},
   "outputs": [],
   "source": [
    "import psycopg2 as pg\n",
    "import pandas as pd\n",
    "\n",
    "# Database setup\n",
    "host = \"localhost\"\n",
    "database = \"cdm\"\n",
    "user = \"postgres\"\n",
    "password = %env PGPASSWORD\n",
    "connection_string = \"host={} dbname={} user={} password={}\".format(host, database, user, password)\n",
    "\n",
    "db = pg.connect(connection_string)"
   ]
  },
  {
   "cell_type": "code",
   "execution_count": 13,
   "metadata": {},
   "outputs": [
    {
     "name": "stdout",
     "output_type": "stream",
     "text": [
      "                    Table  Row Count\n",
      "0         concept_synonym    3391372\n",
      "1                specimen          0\n",
      "2    concept_relationship    9254447\n",
      "3                  person     116352\n",
      "4       payer_plan_period     389231\n",
      "5        cohort_attribute          0\n",
      "6                   death       5461\n",
      "7    attribute_definition          0\n",
      "8           concept_class        315\n",
      "9              vocabulary         27\n",
      "10              care_site     239158\n",
      "11              drug_cost    5552376\n",
      "12      fact_relationship          0\n",
      "13             cdm_source          0\n",
      "14  source_to_concept_map          0\n",
      "15          drug_exposure    6303448\n",
      "16               dose_era          0\n",
      "17               location       3088\n",
      "18               provider     635456\n",
      "19            measurement    3704927\n",
      "20      cohort_definition          0\n",
      "21               drug_era          0\n",
      "22          condition_era          0\n",
      "23                   note          0\n",
      "24   procedure_occurrence   13926500\n",
      "25          drug_strength     195736\n",
      "26       visit_occurrence    5579533\n",
      "27   condition_occurrence   14455883\n",
      "28            observation    1876834\n",
      "29        device_exposure     224505\n",
      "30         procedure_cost   31821624\n",
      "31             visit_cost          0\n",
      "32       concept_ancestor    8612675\n",
      "33           relationship        442\n",
      "34     observation_period     104891\n",
      "35            device_cost          0\n",
      "36                concept    2065005\n",
      "37                 cohort          0\n",
      "38                 domain         40\n"
     ]
    }
   ],
   "source": [
    "df = pd.read_sql('select relname as \"Table\", n_live_tup \"Row Count\" from pg_stat_user_tables', con=db)\n",
    "print(df)"
   ]
  },
  {
   "cell_type": "code",
   "execution_count": null,
   "metadata": {
    "collapsed": true
   },
   "outputs": [],
   "source": []
  }
 ],
 "metadata": {
  "kernelspec": {
   "display_name": "Python 3",
   "language": "python",
   "name": "python3"
  },
  "language_info": {
   "codemirror_mode": {
    "name": "ipython",
    "version": 3
   },
   "file_extension": ".py",
   "mimetype": "text/x-python",
   "name": "python",
   "nbconvert_exporter": "python",
   "pygments_lexer": "ipython3",
   "version": "3.6.3"
  }
 },
 "nbformat": 4,
 "nbformat_minor": 2
}
