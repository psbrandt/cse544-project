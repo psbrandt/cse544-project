{
 "cells": [
  {
   "cell_type": "code",
   "execution_count": 8,
   "metadata": {},
   "outputs": [],
   "source": [
    "import psycopg2 as pg\n",
    "import pandas as pd\n",
    "\n",
    "# Database setup\n",
    "host = \"localhost\"\n",
    "database = \"cdm\"\n",
    "user = \"postgres\"\n",
    "password = %env PGPASSWORD\n",
    "connection_string = \"host={} dbname={} user={} password={}\".format(host, database, user, password)\n",
    "\n",
    "db = pg.connect(connection_string)"
   ]
  },
  {
   "cell_type": "code",
   "execution_count": 15,
   "metadata": {},
   "outputs": [
    {
     "name": "stdout",
     "output_type": "stream",
     "text": [
      "                   Table  Row Count\n",
      "0         procedure_cost   31821624\n",
      "1   condition_occurrence   14455883\n",
      "2   procedure_occurrence   13926500\n",
      "3   concept_relationship    9254447\n",
      "4       concept_ancestor    8612675\n",
      "5          drug_exposure    6303448\n",
      "6       visit_occurrence    5579533\n",
      "7              drug_cost    5552376\n",
      "8            measurement    3704927\n",
      "9        concept_synonym    3391372\n",
      "10               concept    2065005\n",
      "11           observation    1876834\n",
      "12              provider     635456\n",
      "13     payer_plan_period     389231\n",
      "14             care_site     239158\n",
      "15       device_exposure     224505\n",
      "16         drug_strength     195736\n",
      "17                person     116352\n",
      "18    observation_period     104891\n",
      "19                 death       5461\n",
      "20              location       3088\n",
      "21          relationship        442\n",
      "22         concept_class        315\n",
      "23                domain         40\n",
      "24            vocabulary         27\n"
     ]
    }
   ],
   "source": [
    "df = pd.read_sql('select relname as \"Table\", n_live_tup \"Row Count\" from pg_stat_user_tables where n_live_tup > 0 order by n_live_tup desc', con=db)\n",
    "print(df)"
   ]
  },
  {
   "cell_type": "code",
   "execution_count": null,
   "metadata": {
    "collapsed": true
   },
   "outputs": [],
   "source": []
  }
 ],
 "metadata": {
  "kernelspec": {
   "display_name": "Python 3",
   "language": "python",
   "name": "python3"
  },
  "language_info": {
   "codemirror_mode": {
    "name": "ipython",
    "version": 3
   },
   "file_extension": ".py",
   "mimetype": "text/x-python",
   "name": "python",
   "nbconvert_exporter": "python",
   "pygments_lexer": "ipython3",
   "version": "3.6.3"
  }
 },
 "nbformat": 4,
 "nbformat_minor": 2
}
