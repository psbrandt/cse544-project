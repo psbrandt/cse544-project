{
 "cells": [
  {
   "cell_type": "code",
   "execution_count": 4,
   "metadata": {
    "collapsed": true
   },
   "outputs": [],
   "source": [
    "import psycopg2 as pg\n",
    "import pandas as pd\n",
    "\n",
    "# Database setup\n",
    "host = \"localhost\"\n",
    "database = \"cdm\"\n",
    "user = \"postgres\"\n",
    "password = %env PGPASSWORD\n",
    "connection_string = \"host={} dbname={} user={} password={}\".format(host, database, user, password)\n",
    "\n",
    "db = pg.connect(connection_string)"
   ]
  },
  {
   "cell_type": "markdown",
   "metadata": {},
   "source": [
    "# Differential Privacy to a GROUP BY query\n",
    "In previous experiments, we shown that a single count perturbation is possible to ensure differential privacy.\n",
    "In this next experiment, we are going to be applying differential privacy to a group by SQL query.\n"
   ]
  },
  {
   "cell_type": "code",
   "execution_count": 8,
   "metadata": {},
   "outputs": [
    {
     "data": {
      "text/html": [
       "<div>\n",
       "<style>\n",
       "    .dataframe thead tr:only-child th {\n",
       "        text-align: right;\n",
       "    }\n",
       "\n",
       "    .dataframe thead th {\n",
       "        text-align: left;\n",
       "    }\n",
       "\n",
       "    .dataframe tbody tr th {\n",
       "        vertical-align: top;\n",
       "    }\n",
       "</style>\n",
       "<table border=\"1\" class=\"dataframe\">\n",
       "  <thead>\n",
       "    <tr style=\"text-align: right;\">\n",
       "      <th></th>\n",
       "      <th>gender_concept_id</th>\n",
       "      <th>count</th>\n",
       "    </tr>\n",
       "  </thead>\n",
       "  <tbody>\n",
       "    <tr>\n",
       "      <th>0</th>\n",
       "      <td>8532</td>\n",
       "      <td>64347</td>\n",
       "    </tr>\n",
       "    <tr>\n",
       "      <th>1</th>\n",
       "      <td>8507</td>\n",
       "      <td>52005</td>\n",
       "    </tr>\n",
       "  </tbody>\n",
       "</table>\n",
       "</div>"
      ],
      "text/plain": [
       "   gender_concept_id  count\n",
       "0               8532  64347\n",
       "1               8507  52005"
      ]
     },
     "execution_count": 8,
     "metadata": {},
     "output_type": "execute_result"
    }
   ],
   "source": [
    "# The subset of SynPUF data we use only has these two concepts for gender\n",
    "female_concept_id = 8532;\n",
    "male_concept_id = 8507;\n",
    "\n",
    "gender_count_query = \"\"\"\n",
    "SELECT p.gender_concept_id, COUNT(*)\n",
    "FROM person p\n",
    "GROUP BY p.gender_concept_id;\"\"\"\n",
    "\n",
    "pd.read_sql(gender_count_query, con=db)"
   ]
  },
  {
   "cell_type": "markdown",
   "metadata": {},
   "source": [
    "So in our dataset, we see that our counts are 64347 females and 52005 males.\n",
    "Lets do a simple perturbation using diff privacy"
   ]
  },
  {
   "cell_type": "code",
   "execution_count": 18,
   "metadata": {},
   "outputs": [
    {
     "data": {
      "application/vnd.jupyter.widget-view+json": {
       "model_id": "5747d1f6b6854736b0ca954526767988",
       "version_major": 2,
       "version_minor": 0
      },
      "text/html": [
       "<p>Failed to display Jupyter Widget of type <code>FloatSlider</code>.</p>\n",
       "<p>\n",
       "  If you're reading this message in the Jupyter Notebook or JupyterLab Notebook, it may mean\n",
       "  that the widgets JavaScript is still loading. If this message persists, it\n",
       "  likely means that the widgets JavaScript library is either not installed or\n",
       "  not enabled. See the <a href=\"https://ipywidgets.readthedocs.io/en/stable/user_install.html\">Jupyter\n",
       "  Widgets Documentation</a> for setup instructions.\n",
       "</p>\n",
       "<p>\n",
       "  If you're reading this message in another frontend (for example, a static\n",
       "  rendering on GitHub or <a href=\"https://nbviewer.jupyter.org/\">NBViewer</a>),\n",
       "  it may mean that your frontend doesn't currently support widgets.\n",
       "</p>\n"
      ],
      "text/plain": [
       "FloatSlider(value=1.0, description=u'Epsilon', max=10.0, min=0.001, step=0.001)"
      ]
     },
     "metadata": {},
     "output_type": "display_data"
    },
    {
     "data": {
      "application/vnd.jupyter.widget-view+json": {
       "model_id": "37d22b423b8c465f9cc17d85c0dc73eb",
       "version_major": 2,
       "version_minor": 0
      },
      "text/html": [
       "<p>Failed to display Jupyter Widget of type <code>Button</code>.</p>\n",
       "<p>\n",
       "  If you're reading this message in the Jupyter Notebook or JupyterLab Notebook, it may mean\n",
       "  that the widgets JavaScript is still loading. If this message persists, it\n",
       "  likely means that the widgets JavaScript library is either not installed or\n",
       "  not enabled. See the <a href=\"https://ipywidgets.readthedocs.io/en/stable/user_install.html\">Jupyter\n",
       "  Widgets Documentation</a> for setup instructions.\n",
       "</p>\n",
       "<p>\n",
       "  If you're reading this message in another frontend (for example, a static\n",
       "  rendering on GitHub or <a href=\"https://nbviewer.jupyter.org/\">NBViewer</a>),\n",
       "  it may mean that your frontend doesn't currently support widgets.\n",
       "</p>\n"
      ],
      "text/plain": [
       "Button(description=u'Run Query', style=ButtonStyle())"
      ]
     },
     "metadata": {},
     "output_type": "display_data"
    },
    {
     "data": {
      "application/vnd.jupyter.widget-view+json": {
       "model_id": "90eda19987c741748809695b282a7779",
       "version_major": 2,
       "version_minor": 0
      },
      "text/html": [
       "<p>Failed to display Jupyter Widget of type <code>Box</code>.</p>\n",
       "<p>\n",
       "  If you're reading this message in the Jupyter Notebook or JupyterLab Notebook, it may mean\n",
       "  that the widgets JavaScript is still loading. If this message persists, it\n",
       "  likely means that the widgets JavaScript library is either not installed or\n",
       "  not enabled. See the <a href=\"https://ipywidgets.readthedocs.io/en/stable/user_install.html\">Jupyter\n",
       "  Widgets Documentation</a> for setup instructions.\n",
       "</p>\n",
       "<p>\n",
       "  If you're reading this message in another frontend (for example, a static\n",
       "  rendering on GitHub or <a href=\"https://nbviewer.jupyter.org/\">NBViewer</a>),\n",
       "  it may mean that your frontend doesn't currently support widgets.\n",
       "</p>\n"
      ],
      "text/plain": [
       "Box()"
      ]
     },
     "metadata": {},
     "output_type": "display_data"
    }
   ],
   "source": [
    "from IPython.display import display\n",
    "from ipywidgets import interact, interactive, fixed, interact_manual\n",
    "import ipywidgets as widgets\n",
    "import numpy as np\n",
    "\n",
    "def run(button):\n",
    "    result_f, result_m = multi_value_differential_privacy(gender_count_query, slider.value)\n",
    "    box.children = [widgets.Label(\"Female Count: \"), widgets.Label(value=str(result_f)),\n",
    "                    widgets.Label(\"\\nMale Count: \"), widgets.Label(value=str(result_m))]\n",
    "    \n",
    "\n",
    "button = widgets.Button(description=\"Run Query\")\n",
    "button.on_click(run)\n",
    "\n",
    "box = widgets.Box()\n",
    "\n",
    "def multi_value_differential_privacy(query=gender_count_query, epsilon=1):\n",
    "    \n",
    "    # Run the query\n",
    "    results = pd.read_sql(query, con=db)\n",
    "    count_female = results['count'][0]\n",
    "    count_male   = results['count'][1]\n",
    "    \n",
    "    # Apply Laplacian randomness with $\\lamda = \\frac{1}{\\epsilon}$\n",
    "    # see https://docs.scipy.org/doc/numpy/reference/generated/numpy.random.laplace.html\n",
    "    noise = np.random.laplace(scale=1/epsilon);\n",
    "    \n",
    "    # Round the number since having a floating point count doesn't really make sense\n",
    "    return np.round(count_female + noise), np.round(count_male + noise)\n",
    "\n",
    "slider = widgets.FloatSlider(min=0.001, max=10, value=1, step=0.001, description='Epsilon')\n",
    "\n",
    "display(slider)\n",
    "display(button)\n",
    "\n",
    "box"
   ]
  },
  {
   "cell_type": "markdown",
   "metadata": {},
   "source": [
    "So now we have added diff privacy to both results to add uncertainty to the results"
   ]
  },
  {
   "cell_type": "markdown",
   "metadata": {},
   "source": [
    "## Groups on Groups on Groups\n",
    "\n",
    "Now that we can perform differential privacy on two results in a GROUP BY, can we do the same thing for more groups, and for groups in those groups....how deep can we go? Can we get our query down to results of one?"
   ]
  },
  {
   "cell_type": "code",
   "execution_count": 39,
   "metadata": {},
   "outputs": [
    {
     "name": "stdout",
     "output_type": "stream",
     "text": [
      "   gender_concept_id  year_of_birth  month_of_birth  day_of_birth  count\n",
      "0               8532           1974               4             1      2\n",
      "1               8507           1975               5             1      2\n",
      "2               8532           1976              10             1      2\n",
      "3               8532           1977              12             1      2\n",
      "4               8507           1979               1             1      2\n",
      "5               8507           1979               6             1      1\n",
      "6               8532           1982               8             1      2\n",
      "7               8507           1982               9             1      2\n",
      "8               8532           1982               7             1      1\n",
      "9               8532           1982               1             1      2\n"
     ]
    }
   ],
   "source": [
    "query = \"\"\"\n",
    "    SELECT p.gender_concept_id, p.year_of_birth, p.month_of_birth, p.day_of_birth, COUNT(*)\n",
    "    FROM person p\n",
    "    GROUP BY p.year_of_birth, p.gender_concept_id, p.month_of_birth, p.day_of_birth, p.time_of_birth\n",
    "    HAVING count(*) < 3\n",
    "    ORDER BY p.year_of_birth;\n",
    "\"\"\"\n",
    "\n",
    "results = pd.read_sql(query, con=db)\n",
    "print results"
   ]
  },
  {
   "cell_type": "markdown",
   "metadata": {},
   "source": [
    "We have been able to narrow down to very precise set of individuals, how does perturbation hide these individuals."
   ]
  },
  {
   "cell_type": "code",
   "execution_count": 75,
   "metadata": {},
   "outputs": [
    {
     "data": {
      "application/vnd.jupyter.widget-view+json": {
       "model_id": "da21b7e17b034d678d468f8e64a375e2",
       "version_major": 2,
       "version_minor": 0
      },
      "text/html": [
       "<p>Failed to display Jupyter Widget of type <code>FloatSlider</code>.</p>\n",
       "<p>\n",
       "  If you're reading this message in the Jupyter Notebook or JupyterLab Notebook, it may mean\n",
       "  that the widgets JavaScript is still loading. If this message persists, it\n",
       "  likely means that the widgets JavaScript library is either not installed or\n",
       "  not enabled. See the <a href=\"https://ipywidgets.readthedocs.io/en/stable/user_install.html\">Jupyter\n",
       "  Widgets Documentation</a> for setup instructions.\n",
       "</p>\n",
       "<p>\n",
       "  If you're reading this message in another frontend (for example, a static\n",
       "  rendering on GitHub or <a href=\"https://nbviewer.jupyter.org/\">NBViewer</a>),\n",
       "  it may mean that your frontend doesn't currently support widgets.\n",
       "</p>\n"
      ],
      "text/plain": [
       "FloatSlider(value=1.0, description=u'Epsilon', max=10.0, min=0.001, step=0.001)"
      ]
     },
     "metadata": {},
     "output_type": "display_data"
    },
    {
     "data": {
      "application/vnd.jupyter.widget-view+json": {
       "model_id": "67cc4266dacc45ecb7a6137ac67aac81",
       "version_major": 2,
       "version_minor": 0
      },
      "text/html": [
       "<p>Failed to display Jupyter Widget of type <code>Button</code>.</p>\n",
       "<p>\n",
       "  If you're reading this message in the Jupyter Notebook or JupyterLab Notebook, it may mean\n",
       "  that the widgets JavaScript is still loading. If this message persists, it\n",
       "  likely means that the widgets JavaScript library is either not installed or\n",
       "  not enabled. See the <a href=\"https://ipywidgets.readthedocs.io/en/stable/user_install.html\">Jupyter\n",
       "  Widgets Documentation</a> for setup instructions.\n",
       "</p>\n",
       "<p>\n",
       "  If you're reading this message in another frontend (for example, a static\n",
       "  rendering on GitHub or <a href=\"https://nbviewer.jupyter.org/\">NBViewer</a>),\n",
       "  it may mean that your frontend doesn't currently support widgets.\n",
       "</p>\n"
      ],
      "text/plain": [
       "Button(description=u'Run Query', style=ButtonStyle())"
      ]
     },
     "metadata": {},
     "output_type": "display_data"
    },
    {
     "data": {
      "application/vnd.jupyter.widget-view+json": {
       "model_id": "a948d59409d143a8a0d2e8fa0325a89a",
       "version_major": 2,
       "version_minor": 0
      },
      "text/html": [
       "<p>Failed to display Jupyter Widget of type <code>Box</code>.</p>\n",
       "<p>\n",
       "  If you're reading this message in the Jupyter Notebook or JupyterLab Notebook, it may mean\n",
       "  that the widgets JavaScript is still loading. If this message persists, it\n",
       "  likely means that the widgets JavaScript library is either not installed or\n",
       "  not enabled. See the <a href=\"https://ipywidgets.readthedocs.io/en/stable/user_install.html\">Jupyter\n",
       "  Widgets Documentation</a> for setup instructions.\n",
       "</p>\n",
       "<p>\n",
       "  If you're reading this message in another frontend (for example, a static\n",
       "  rendering on GitHub or <a href=\"https://nbviewer.jupyter.org/\">NBViewer</a>),\n",
       "  it may mean that your frontend doesn't currently support widgets.\n",
       "</p>\n"
      ],
      "text/plain": [
       "Box()"
      ]
     },
     "metadata": {},
     "output_type": "display_data"
    },
    {
     "name": "stdout",
     "output_type": "stream",
     "text": [
      "(8532, 1974, 2)\n",
      "(8507, 1975, 4)\n",
      "(8532, 1976, 2)\n",
      "(8532, 1977, 4)\n",
      "(8507, 1979, 1)\n",
      "(8507, 1979, 3)\n",
      "(8532, 1982, 5)\n",
      "(8507, 1982, 2)\n",
      "(8532, 1982, 1)\n",
      "(8532, 1982, 1)\n"
     ]
    }
   ],
   "source": [
    "def query_differential_privacy(query, epsilon=1):\n",
    "    \n",
    "    results = pd.read_sql(query, con=db)\n",
    "    \n",
    "    temp = []\n",
    "    \n",
    "    for i in range(len(results)):\n",
    "        \n",
    "        noise = np.random.laplace(scale=1/epsilon);\n",
    "        \n",
    "        new_count = int(np.abs(np.round(results['count'][i] + noise)))\n",
    "        \n",
    "        temp.append((results['gender_concept_id'][i], results['year_of_birth'][i], new_count))\n",
    "    \n",
    "    return temp\n",
    "\n",
    "\n",
    "query1 = \"\"\"\n",
    "    SELECT p.gender_concept_id, p.year_of_birth, p.month_of_birth, p.day_of_birth, COUNT(*)\n",
    "    FROM person p\n",
    "    GROUP BY p.year_of_birth, p.gender_concept_id, p.month_of_birth, p.day_of_birth, p.time_of_birth\n",
    "    HAVING count(*) < 3\n",
    "    ORDER BY p.year_of_birth;\n",
    "\"\"\"\n",
    "\n",
    "        \n",
    "def run(button):\n",
    "    results = query_differential_privacy(query1, slider.value)\n",
    "    for i in results:\n",
    "        print i\n",
    "\n",
    "button = widgets.Button(description=\"Run Query\")\n",
    "button.on_click(run)\n",
    "\n",
    "box = widgets.Box()\n",
    "\n",
    "slider = widgets.FloatSlider(min=0.001, max=10, value=1, step=0.001, description='Epsilon')\n",
    "\n",
    "display(slider)\n",
    "display(button)\n",
    "\n",
    "box"
   ]
  },
  {
   "cell_type": "markdown",
   "metadata": {
    "collapsed": true
   },
   "source": [
    "Using perturbation, we have adjusted the counts to mask the true values.\n",
    "\n",
    "The take away from this experiment is that we can combine multiple columns to narrow down to a very few number of people and differential privacy should be able to protect their privacy to a L1 norm. "
   ]
  },
  {
   "cell_type": "markdown",
   "metadata": {},
   "source": [
    "## Privacy Budget with multi-column GROUP BY\n",
    "\n",
    "Can we protect these individuals who are at risk for multi-variate discovery."
   ]
  },
  {
   "cell_type": "code",
   "execution_count": 82,
   "metadata": {},
   "outputs": [
    {
     "data": {
      "text/html": [
       "<script>requirejs.config({paths: { 'plotly': ['https://cdn.plot.ly/plotly-latest.min']},});if(!window.Plotly) {{require(['plotly'],function(plotly) {window.Plotly=plotly;});}}</script>"
      ],
      "text/vnd.plotly.v1+html": [
       "<script>requirejs.config({paths: { 'plotly': ['https://cdn.plot.ly/plotly-latest.min']},});if(!window.Plotly) {{require(['plotly'],function(plotly) {window.Plotly=plotly;});}}</script>"
      ]
     },
     "metadata": {},
     "output_type": "display_data"
    },
    {
     "data": {
      "application/vnd.jupyter.widget-view+json": {
       "model_id": "719ce92c07ec458899dd5eb9252579c2",
       "version_major": 2,
       "version_minor": 0
      },
      "text/html": [
       "<p>Failed to display Jupyter Widget of type <code>BoundedIntText</code>.</p>\n",
       "<p>\n",
       "  If you're reading this message in the Jupyter Notebook or JupyterLab Notebook, it may mean\n",
       "  that the widgets JavaScript is still loading. If this message persists, it\n",
       "  likely means that the widgets JavaScript library is either not installed or\n",
       "  not enabled. See the <a href=\"https://ipywidgets.readthedocs.io/en/stable/user_install.html\">Jupyter\n",
       "  Widgets Documentation</a> for setup instructions.\n",
       "</p>\n",
       "<p>\n",
       "  If you're reading this message in another frontend (for example, a static\n",
       "  rendering on GitHub or <a href=\"https://nbviewer.jupyter.org/\">NBViewer</a>),\n",
       "  it may mean that your frontend doesn't currently support widgets.\n",
       "</p>\n"
      ],
      "text/plain": [
       "BoundedIntText(value=100, description=u'n:', max=1000, min=1)"
      ]
     },
     "metadata": {},
     "output_type": "display_data"
    },
    {
     "data": {
      "application/vnd.jupyter.widget-view+json": {
       "model_id": "25975c6ce8ac4f609f030daf4274c1e9",
       "version_major": 2,
       "version_minor": 0
      },
      "text/html": [
       "<p>Failed to display Jupyter Widget of type <code>BoundedFloatText</code>.</p>\n",
       "<p>\n",
       "  If you're reading this message in the Jupyter Notebook or JupyterLab Notebook, it may mean\n",
       "  that the widgets JavaScript is still loading. If this message persists, it\n",
       "  likely means that the widgets JavaScript library is either not installed or\n",
       "  not enabled. See the <a href=\"https://ipywidgets.readthedocs.io/en/stable/user_install.html\">Jupyter\n",
       "  Widgets Documentation</a> for setup instructions.\n",
       "</p>\n",
       "<p>\n",
       "  If you're reading this message in another frontend (for example, a static\n",
       "  rendering on GitHub or <a href=\"https://nbviewer.jupyter.org/\">NBViewer</a>),\n",
       "  it may mean that your frontend doesn't currently support widgets.\n",
       "</p>\n"
      ],
      "text/plain": [
       "BoundedFloatText(value=10.0, description=u'$\\\\epsilon_{total}$:', min=1.0)"
      ]
     },
     "metadata": {},
     "output_type": "display_data"
    },
    {
     "data": {
      "application/vnd.jupyter.widget-view+json": {
       "model_id": "d21bb800c2ca4811994b64e13757d8b5",
       "version_major": 2,
       "version_minor": 0
      },
      "text/html": [
       "<p>Failed to display Jupyter Widget of type <code>Button</code>.</p>\n",
       "<p>\n",
       "  If you're reading this message in the Jupyter Notebook or JupyterLab Notebook, it may mean\n",
       "  that the widgets JavaScript is still loading. If this message persists, it\n",
       "  likely means that the widgets JavaScript library is either not installed or\n",
       "  not enabled. See the <a href=\"https://ipywidgets.readthedocs.io/en/stable/user_install.html\">Jupyter\n",
       "  Widgets Documentation</a> for setup instructions.\n",
       "</p>\n",
       "<p>\n",
       "  If you're reading this message in another frontend (for example, a static\n",
       "  rendering on GitHub or <a href=\"https://nbviewer.jupyter.org/\">NBViewer</a>),\n",
       "  it may mean that your frontend doesn't currently support widgets.\n",
       "</p>\n"
      ],
      "text/plain": [
       "Button(description=u'Run Attack', style=ButtonStyle())"
      ]
     },
     "metadata": {},
     "output_type": "display_data"
    },
    {
     "data": {
      "application/vnd.plotly.v1+json": {
       "data": [
        {
         "name": "n = 100, budget = 10.0",
         "type": "histogram",
         "x": [
          28,
          6,
          9,
          20,
          21,
          5,
          5,
          0,
          12,
          13,
          3,
          6,
          4,
          6,
          0,
          3,
          18,
          1,
          8,
          5,
          3,
          13,
          4,
          0,
          23,
          10,
          14,
          5,
          8,
          1,
          6,
          25,
          16,
          17,
          10,
          12,
          10,
          23,
          7,
          17,
          10,
          2,
          9,
          5,
          4,
          0,
          9,
          5,
          14,
          0,
          13,
          7,
          3,
          6,
          10,
          6,
          8,
          5,
          1,
          13,
          25,
          11,
          4,
          2,
          2,
          4,
          1,
          4,
          5,
          0,
          9,
          7,
          20,
          5,
          5,
          6,
          18,
          4,
          4,
          0,
          20,
          8,
          12,
          2,
          3,
          4,
          2,
          8,
          15,
          3,
          14,
          4,
          4,
          20,
          23,
          1,
          4,
          13,
          3,
          7
         ]
        }
       ],
       "layout": {
        "bargap": 0.1,
        "showlegend": true,
        "title": "Specific Count Attack Results",
        "xaxis": {
         "exponentformat": "none",
         "tickangle": 300,
         "title": "Specific Count"
        },
        "yaxis": {
         "title": "Occurences"
        }
       }
      },
      "text/html": [
       "<div id=\"93077714-feb2-4743-a1a7-482566bce1b5\" style=\"height: 525px; width: 100%;\" class=\"plotly-graph-div\"></div><script type=\"text/javascript\">require([\"plotly\"], function(Plotly) { window.PLOTLYENV=window.PLOTLYENV || {};window.PLOTLYENV.BASE_URL=\"https://plot.ly\";Plotly.newPlot(\"93077714-feb2-4743-a1a7-482566bce1b5\", [{\"x\": [28, 6, 9, 20, 21, 5, 5, 0, 12, 13, 3, 6, 4, 6, 0, 3, 18, 1, 8, 5, 3, 13, 4, 0, 23, 10, 14, 5, 8, 1, 6, 25, 16, 17, 10, 12, 10, 23, 7, 17, 10, 2, 9, 5, 4, 0, 9, 5, 14, 0, 13, 7, 3, 6, 10, 6, 8, 5, 1, 13, 25, 11, 4, 2, 2, 4, 1, 4, 5, 0, 9, 7, 20, 5, 5, 6, 18, 4, 4, 0, 20, 8, 12, 2, 3, 4, 2, 8, 15, 3, 14, 4, 4, 20, 23, 1, 4, 13, 3, 7], \"type\": \"histogram\", \"name\": \"n = 100, budget = 10.0\"}], {\"showlegend\": true, \"bargap\": 0.1, \"yaxis\": {\"title\": \"Occurences\"}, \"xaxis\": {\"tickangle\": 300, \"exponentformat\": \"none\", \"title\": \"Specific Count\"}, \"title\": \"Specific Count Attack Results\"}, {\"linkText\": \"Export to plot.ly\", \"showLink\": true})});</script>"
      ],
      "text/vnd.plotly.v1+html": [
       "<div id=\"93077714-feb2-4743-a1a7-482566bce1b5\" style=\"height: 525px; width: 100%;\" class=\"plotly-graph-div\"></div><script type=\"text/javascript\">require([\"plotly\"], function(Plotly) { window.PLOTLYENV=window.PLOTLYENV || {};window.PLOTLYENV.BASE_URL=\"https://plot.ly\";Plotly.newPlot(\"93077714-feb2-4743-a1a7-482566bce1b5\", [{\"x\": [28, 6, 9, 20, 21, 5, 5, 0, 12, 13, 3, 6, 4, 6, 0, 3, 18, 1, 8, 5, 3, 13, 4, 0, 23, 10, 14, 5, 8, 1, 6, 25, 16, 17, 10, 12, 10, 23, 7, 17, 10, 2, 9, 5, 4, 0, 9, 5, 14, 0, 13, 7, 3, 6, 10, 6, 8, 5, 1, 13, 25, 11, 4, 2, 2, 4, 1, 4, 5, 0, 9, 7, 20, 5, 5, 6, 18, 4, 4, 0, 20, 8, 12, 2, 3, 4, 2, 8, 15, 3, 14, 4, 4, 20, 23, 1, 4, 13, 3, 7], \"type\": \"histogram\", \"name\": \"n = 100, budget = 10.0\"}], {\"showlegend\": true, \"bargap\": 0.1, \"yaxis\": {\"title\": \"Occurences\"}, \"xaxis\": {\"tickangle\": 300, \"exponentformat\": \"none\", \"title\": \"Specific Count\"}, \"title\": \"Specific Count Attack Results\"}, {\"linkText\": \"Export to plot.ly\", \"showLink\": true})});</script>"
      ]
     },
     "metadata": {},
     "output_type": "display_data"
    }
   ],
   "source": [
    "from IPython.display import display\n",
    "from ipywidgets import interact, interactive, fixed, interact_manual\n",
    "import ipywidgets as widgets\n",
    "import numpy as np\n",
    "from plotly.offline import download_plotlyjs, init_notebook_mode, iplot\n",
    "import plotly.graph_objs as go\n",
    "\n",
    "# This is to use ployly offline\n",
    "init_notebook_mode(connected=True)\n",
    "\n",
    "iframe = None\n",
    "\n",
    "# Number of query runs (n)\n",
    "n = widgets.BoundedIntText(value=100, min=1, max=1000, description='n:')\n",
    "\n",
    "# Privacy budget (\\epsilon_{total})\n",
    "budget = widgets.BoundedFloatText(value=10, min=1, description=r'$\\epsilon_{total}$:')\n",
    "\n",
    "# Fancy progress bar 🎩\n",
    "progress = widgets.FloatProgress(min=0,max=100, step=1, description='Progress:')\n",
    "\n",
    "def multi_variate_differential_privacy(query, epsilon=1):\n",
    "    \n",
    "    results = pd.read_sql(query, con=db)\n",
    "    \n",
    "    temp = []\n",
    "    \n",
    "    for i in range(len(results)):\n",
    "        \n",
    "        noise = np.random.laplace(scale=1/epsilon);\n",
    "        \n",
    "        new_count = int(np.abs(np.round(results['count'][i] + noise)))\n",
    "        \n",
    "        temp.append((results['gender_concept_id'][i], results['year_of_birth'][i], new_count))\n",
    "    \n",
    "    return new_count\n",
    "\n",
    "query2 = \"\"\"\n",
    "    SELECT p.gender_concept_id, p.year_of_birth, p.month_of_birth, p.day_of_birth, COUNT(*)\n",
    "    FROM person p\n",
    "    WHERE p.year_of_birth=1979 and p.month_of_birth=6 and p.day_of_birth=1 and p.gender_concept_id=8507\n",
    "    GROUP BY p.year_of_birth, p.gender_concept_id, p.month_of_birth, p.day_of_birth, p.time_of_birth\n",
    "    HAVING count(*) < 3\n",
    "    ORDER BY p.year_of_birth;\n",
    "\"\"\"\n",
    "\n",
    "def run(button):\n",
    "    results = []\n",
    "    epsilon_i = budget.value / n.value\n",
    "    \n",
    "    for i in range(0, n.value):\n",
    "        results.append(multi_variate_differential_privacy(query2, epsilon_i))\n",
    "        progress.value = (i + 1) / n.value * 100\n",
    "        \n",
    "    data = [go.Histogram(x=results, name=\"n = {}, budget = {}\".format(n.value, budget.value))]\n",
    "    layout = go.Layout(\n",
    "        title='Specific Count Attack Results', \n",
    "        xaxis={'title':'Specific Count', 'tickangle': 300, 'exponentformat': 'none'}, \n",
    "        yaxis={'title':'Occurences'},\n",
    "        showlegend=True,\n",
    "        bargap=0.1)\n",
    "    \n",
    "    iplot({\"data\": data, \"layout\": layout})        \n",
    "\n",
    "button = widgets.Button(description=\"Run Attack\")\n",
    "button.on_click(run)\n",
    "\n",
    "display(n)\n",
    "display(budget)\n",
    "display(button)"
   ]
  },
  {
   "cell_type": "markdown",
   "metadata": {},
   "source": [
    "So with this experiment, we can show that even very specific attacks, using multi-variate columns where it would be possible to narrow down to individuals, we can apply a privacy budget to protect very specific attacks."
   ]
  },
  {
   "cell_type": "code",
   "execution_count": null,
   "metadata": {
    "collapsed": true
   },
   "outputs": [],
   "source": []
  }
 ],
 "metadata": {
  "kernelspec": {
   "display_name": "Python 2",
   "language": "python",
   "name": "python2"
  },
  "language_info": {
   "codemirror_mode": {
    "name": "ipython",
    "version": 2
   },
   "file_extension": ".py",
   "mimetype": "text/x-python",
   "name": "python",
   "nbconvert_exporter": "python",
   "pygments_lexer": "ipython2",
   "version": "2.7.13"
  }
 },
 "nbformat": 4,
 "nbformat_minor": 2
}
