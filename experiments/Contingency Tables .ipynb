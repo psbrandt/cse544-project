{
 "cells": [
  {
   "cell_type": "markdown",
   "metadata": {},
   "source": [
    "# Contingency Tables (still not sure what that means)"
   ]
  },
  {
   "cell_type": "markdown",
   "metadata": {},
   "source": [
    "#### Connect to the Database"
   ]
  },
  {
   "cell_type": "code",
   "execution_count": 1,
   "metadata": {
    "collapsed": true
   },
   "outputs": [],
   "source": [
    "import psycopg2 as pg\n",
    "import pandas as pd\n",
    "\n",
    "# Database setup\n",
    "host = \"localhost\"\n",
    "database = \"cdm\"\n",
    "user = \"postgres\"\n",
    "password = %env PGPASSWORD\n",
    "connection_string = \"host={} dbname={} user={} password={}\".format(host, database, user, password)\n",
    "\n",
    "db = pg.connect(connection_string)"
   ]
  },
  {
   "cell_type": "markdown",
   "metadata": {},
   "source": [
    "## GROUP BY queries"
   ]
  },
  {
   "cell_type": "markdown",
   "metadata": {},
   "source": [
    "### Heart Failure by Gender and Birth Decade"
   ]
  },
  {
   "cell_type": "code",
   "execution_count": 2,
   "metadata": {},
   "outputs": [
    {
     "data": {
      "text/html": [
       "<div>\n",
       "<style>\n",
       "    .dataframe thead tr:only-child th {\n",
       "        text-align: right;\n",
       "    }\n",
       "\n",
       "    .dataframe thead th {\n",
       "        text-align: left;\n",
       "    }\n",
       "\n",
       "    .dataframe tbody tr th {\n",
       "        vertical-align: top;\n",
       "    }\n",
       "</style>\n",
       "<table border=\"1\" class=\"dataframe\">\n",
       "  <thead>\n",
       "    <tr style=\"text-align: right;\">\n",
       "      <th>Birth Decade</th>\n",
       "      <th>1900.0</th>\n",
       "      <th>1910.0</th>\n",
       "      <th>1920.0</th>\n",
       "      <th>1930.0</th>\n",
       "      <th>1940.0</th>\n",
       "      <th>1950.0</th>\n",
       "      <th>1960.0</th>\n",
       "      <th>1970.0</th>\n",
       "      <th>1980.0</th>\n",
       "    </tr>\n",
       "    <tr>\n",
       "      <th>Gender</th>\n",
       "      <th></th>\n",
       "      <th></th>\n",
       "      <th></th>\n",
       "      <th></th>\n",
       "      <th></th>\n",
       "      <th></th>\n",
       "      <th></th>\n",
       "      <th></th>\n",
       "      <th></th>\n",
       "    </tr>\n",
       "  </thead>\n",
       "  <tbody>\n",
       "    <tr>\n",
       "      <th>Female</th>\n",
       "      <td>2988</td>\n",
       "      <td>33350</td>\n",
       "      <td>99322</td>\n",
       "      <td>113796</td>\n",
       "      <td>59256</td>\n",
       "      <td>18212</td>\n",
       "      <td>11294</td>\n",
       "      <td>4540</td>\n",
       "      <td>1392</td>\n",
       "    </tr>\n",
       "    <tr>\n",
       "      <th>Male</th>\n",
       "      <td>1156</td>\n",
       "      <td>14692</td>\n",
       "      <td>66048</td>\n",
       "      <td>93864</td>\n",
       "      <td>53006</td>\n",
       "      <td>18256</td>\n",
       "      <td>10334</td>\n",
       "      <td>4942</td>\n",
       "      <td>1152</td>\n",
       "    </tr>\n",
       "  </tbody>\n",
       "</table>\n",
       "</div>"
      ],
      "text/plain": [
       "Birth Decade  1900.0  1910.0  1920.0  1930.0  1940.0  1950.0  1960.0  1970.0  \\\n",
       "Gender                                                                         \n",
       "Female          2988   33350   99322  113796   59256   18212   11294    4540   \n",
       "Male            1156   14692   66048   93864   53006   18256   10334    4942   \n",
       "\n",
       "Birth Decade  1980.0  \n",
       "Gender                \n",
       "Female          1392  \n",
       "Male            1152  "
      ]
     },
     "execution_count": 2,
     "metadata": {},
     "output_type": "execute_result"
    }
   ],
   "source": [
    "query = \"\"\"\n",
    "    SELECT\n",
    "        extract('year' FROM date_trunc('decade', make_date(p.year_of_birth, p.month_of_birth, p.day_of_birth))) AS birth_decade,\n",
    "        CASE p.gender_concept_id WHEN 8532 THEN 'Female' ELSE 'Male' END AS gender,\n",
    "        COUNT(*)\n",
    "    FROM person p, condition_occurrence con_oc, concept con\n",
    "    WHERE p.person_id = con_oc.person_id \n",
    "        AND con_oc.condition_concept_id = con.concept_id\n",
    "        AND (con.concept_name LIKE '%Heart Failure%' OR\n",
    "            con.concept_name LIKE '%heart failure%')\n",
    "        AND con.domain_id = 'Condition'\n",
    "        AND con.concept_class_id='Clinical Finding'\n",
    "    GROUP BY\n",
    "        date_trunc('decade', make_date(p.year_of_birth, p.month_of_birth, p.day_of_birth)),\n",
    "        p.gender_concept_id\n",
    "    ORDER BY\n",
    "        birth_decade,\n",
    "        gender;\"\"\"\n",
    "results = pd.read_sql(query, con=db)\n",
    "df = results.pivot(index='gender', columns='birth_decade', values='count')\n",
    "\n",
    "df.columns.names = ['Birth Decade']\n",
    "df.index.names = ['Gender']\n",
    "\n",
    "heart_failure = df\n",
    "heart_failure"
   ]
  },
  {
   "cell_type": "markdown",
   "metadata": {},
   "source": [
    "### HIV by Gender and Birth Decade"
   ]
  },
  {
   "cell_type": "code",
   "execution_count": 3,
   "metadata": {},
   "outputs": [
    {
     "data": {
      "text/html": [
       "<div>\n",
       "<style>\n",
       "    .dataframe thead tr:only-child th {\n",
       "        text-align: right;\n",
       "    }\n",
       "\n",
       "    .dataframe thead th {\n",
       "        text-align: left;\n",
       "    }\n",
       "\n",
       "    .dataframe tbody tr th {\n",
       "        vertical-align: top;\n",
       "    }\n",
       "</style>\n",
       "<table border=\"1\" class=\"dataframe\">\n",
       "  <thead>\n",
       "    <tr style=\"text-align: right;\">\n",
       "      <th>Birth Decade</th>\n",
       "      <th>1900.0</th>\n",
       "      <th>1910.0</th>\n",
       "      <th>1920.0</th>\n",
       "      <th>1930.0</th>\n",
       "      <th>1940.0</th>\n",
       "      <th>1950.0</th>\n",
       "      <th>1960.0</th>\n",
       "      <th>1970.0</th>\n",
       "      <th>1980.0</th>\n",
       "    </tr>\n",
       "    <tr>\n",
       "      <th>Gender</th>\n",
       "      <th></th>\n",
       "      <th></th>\n",
       "      <th></th>\n",
       "      <th></th>\n",
       "      <th></th>\n",
       "      <th></th>\n",
       "      <th></th>\n",
       "      <th></th>\n",
       "      <th></th>\n",
       "    </tr>\n",
       "  </thead>\n",
       "  <tbody>\n",
       "    <tr>\n",
       "      <th>Female</th>\n",
       "      <td>12.0</td>\n",
       "      <td>164.0</td>\n",
       "      <td>442.0</td>\n",
       "      <td>604.0</td>\n",
       "      <td>374.0</td>\n",
       "      <td>110.0</td>\n",
       "      <td>128.0</td>\n",
       "      <td>38.0</td>\n",
       "      <td>16.0</td>\n",
       "    </tr>\n",
       "    <tr>\n",
       "      <th>Male</th>\n",
       "      <td>NaN</td>\n",
       "      <td>70.0</td>\n",
       "      <td>262.0</td>\n",
       "      <td>476.0</td>\n",
       "      <td>266.0</td>\n",
       "      <td>164.0</td>\n",
       "      <td>92.0</td>\n",
       "      <td>48.0</td>\n",
       "      <td>14.0</td>\n",
       "    </tr>\n",
       "  </tbody>\n",
       "</table>\n",
       "</div>"
      ],
      "text/plain": [
       "Birth Decade  1900.0  1910.0  1920.0  1930.0  1940.0  1950.0  1960.0  1970.0  \\\n",
       "Gender                                                                         \n",
       "Female          12.0   164.0   442.0   604.0   374.0   110.0   128.0    38.0   \n",
       "Male             NaN    70.0   262.0   476.0   266.0   164.0    92.0    48.0   \n",
       "\n",
       "Birth Decade  1980.0  \n",
       "Gender                \n",
       "Female          16.0  \n",
       "Male            14.0  "
      ]
     },
     "execution_count": 3,
     "metadata": {},
     "output_type": "execute_result"
    }
   ],
   "source": [
    "query = \"\"\"\n",
    "SELECT\n",
    "  extract('year' FROM date_trunc('decade', make_date(p.year_of_birth, p.month_of_birth, p.day_of_birth))) AS birth_decade,\n",
    "  CASE p.gender_concept_id WHEN 8532 THEN 'Female' ELSE 'Male' END AS gender,\n",
    "  COUNT(*)\n",
    "FROM\n",
    "  condition_occurrence co,\n",
    "  person p\n",
    "WHERE\n",
    "  co.person_id = p.person_id AND\n",
    "  condition_concept_id = '4241530'\n",
    "GROUP BY \n",
    "  date_trunc('decade', make_date(p.year_of_birth, p.month_of_birth, p.day_of_birth)),\n",
    "  p.gender_concept_id\n",
    "ORDER BY\n",
    "  birth_decade,\n",
    "  gender;\"\"\"\n",
    "results = pd.read_sql(query, con=db)\n",
    "df = results.pivot(index='gender', columns='birth_decade', values='count')\n",
    "df.columns.names = ['Birth Decade']\n",
    "df.index.names = ['Gender']\n",
    "\n",
    "HIV = df\n",
    "HIV"
   ]
  },
  {
   "cell_type": "markdown",
   "metadata": {
    "collapsed": true
   },
   "source": [
    "### Diabetes by Gender and Age"
   ]
  },
  {
   "cell_type": "code",
   "execution_count": 4,
   "metadata": {},
   "outputs": [
    {
     "data": {
      "text/html": [
       "<div>\n",
       "<style>\n",
       "    .dataframe thead tr:only-child th {\n",
       "        text-align: right;\n",
       "    }\n",
       "\n",
       "    .dataframe thead th {\n",
       "        text-align: left;\n",
       "    }\n",
       "\n",
       "    .dataframe tbody tr th {\n",
       "        vertical-align: top;\n",
       "    }\n",
       "</style>\n",
       "<table border=\"1\" class=\"dataframe\">\n",
       "  <thead>\n",
       "    <tr style=\"text-align: right;\">\n",
       "      <th>Birth Decade</th>\n",
       "      <th>1900.0</th>\n",
       "      <th>1910.0</th>\n",
       "      <th>1920.0</th>\n",
       "      <th>1930.0</th>\n",
       "      <th>1940.0</th>\n",
       "      <th>1950.0</th>\n",
       "      <th>1960.0</th>\n",
       "      <th>1970.0</th>\n",
       "      <th>1980.0</th>\n",
       "    </tr>\n",
       "    <tr>\n",
       "      <th>Gender</th>\n",
       "      <th></th>\n",
       "      <th></th>\n",
       "      <th></th>\n",
       "      <th></th>\n",
       "      <th></th>\n",
       "      <th></th>\n",
       "      <th></th>\n",
       "      <th></th>\n",
       "      <th></th>\n",
       "    </tr>\n",
       "  </thead>\n",
       "  <tbody>\n",
       "    <tr>\n",
       "      <th>Female</th>\n",
       "      <td>7450</td>\n",
       "      <td>83022</td>\n",
       "      <td>259308</td>\n",
       "      <td>336062</td>\n",
       "      <td>181384</td>\n",
       "      <td>50166</td>\n",
       "      <td>29618</td>\n",
       "      <td>14730</td>\n",
       "      <td>4270</td>\n",
       "    </tr>\n",
       "    <tr>\n",
       "      <th>Male</th>\n",
       "      <td>2316</td>\n",
       "      <td>32368</td>\n",
       "      <td>163328</td>\n",
       "      <td>260810</td>\n",
       "      <td>154894</td>\n",
       "      <td>48180</td>\n",
       "      <td>29416</td>\n",
       "      <td>13820</td>\n",
       "      <td>3994</td>\n",
       "    </tr>\n",
       "  </tbody>\n",
       "</table>\n",
       "</div>"
      ],
      "text/plain": [
       "Birth Decade  1900.0  1910.0  1920.0  1930.0  1940.0  1950.0  1960.0  1970.0  \\\n",
       "Gender                                                                         \n",
       "Female          7450   83022  259308  336062  181384   50166   29618   14730   \n",
       "Male            2316   32368  163328  260810  154894   48180   29416   13820   \n",
       "\n",
       "Birth Decade  1980.0  \n",
       "Gender                \n",
       "Female          4270  \n",
       "Male            3994  "
      ]
     },
     "execution_count": 4,
     "metadata": {},
     "output_type": "execute_result"
    }
   ],
   "source": [
    "query = \"\"\"\n",
    "    SELECT\n",
    "        extract('year' FROM date_trunc('decade', make_date(p.year_of_birth, p.month_of_birth, p.day_of_birth))) AS birth_decade,\n",
    "        CASE p.gender_concept_id WHEN 8532 THEN 'Female' ELSE 'Male' END AS gender,\n",
    "        COUNT(*)\n",
    "    FROM person p, condition_occurrence con_oc, concept con\n",
    "    WHERE p.person_id = con_oc.person_id \n",
    "        AND con_oc.condition_concept_id = con.concept_id\n",
    "        AND con.concept_class_id='Clinical Finding'\n",
    "        AND con_oc.condition_concept_id=con.concept_id\n",
    "        AND (con.concept_name LIKE '%Diabetes%' OR\n",
    "            con.concept_name LIKE '%diabetes%')\n",
    "        AND con.domain_id = 'Condition'\n",
    "    GROUP BY\n",
    "        date_trunc('decade', make_date(p.year_of_birth, p.month_of_birth, p.day_of_birth)),\n",
    "        p.gender_concept_id\n",
    "    ORDER BY\n",
    "        birth_decade,\n",
    "        gender;\"\"\"\n",
    "results = pd.read_sql(query, con=db)\n",
    "df = results.pivot(index='gender', columns='birth_decade', values='count')\n",
    "\n",
    "df.columns.names = ['Birth Decade']\n",
    "df.index.names = ['Gender']\n",
    "\n",
    "diabetes = df\n",
    "diabetes"
   ]
  },
  {
   "cell_type": "code",
   "execution_count": 33,
   "metadata": {},
   "outputs": [
    {
     "data": {
      "text/html": [
       "<script>requirejs.config({paths: { 'plotly': ['https://cdn.plot.ly/plotly-latest.min']},});if(!window.Plotly) {{require(['plotly'],function(plotly) {window.Plotly=plotly;});}}</script>"
      ],
      "text/vnd.plotly.v1+html": [
       "<script>requirejs.config({paths: { 'plotly': ['https://cdn.plot.ly/plotly-latest.min']},});if(!window.Plotly) {{require(['plotly'],function(plotly) {window.Plotly=plotly;});}}</script>"
      ]
     },
     "metadata": {},
     "output_type": "display_data"
    },
    {
     "data": {
      "text/plain": [
       "[2316, 32368, 163328, 260810, 154894, 48180, 29416, 13820, 3994]"
      ]
     },
     "execution_count": 33,
     "metadata": {},
     "output_type": "execute_result"
    }
   ],
   "source": [
    "import numpy as np\n",
    "from plotly.offline import download_plotlyjs, init_notebook_mode, iplot\n",
    "import plotly.graph_objs as go\n",
    "\n",
    "# This is to use ployly offline\n",
    "init_notebook_mode(connected=True)\n",
    "\n",
    "iframe = None\n",
    "\n",
    "years = list(diabetes.columns)\n",
    "female_diabetics = diabetes.T['Female']\n",
    "male_diabetics = diabetes.T['Male']\n",
    "\n",
    "\n",
    "def age_array(df):\n",
    "    temp = []\n",
    "    for age,count in zip(df['Birth Decade'], df['count']):\n",
    "        for i in range(int(count)):\n",
    "            temp.append(age)\n",
    "    return temp\n",
    "\n",
    "\n",
    "\n",
    "\n",
    "#age_array(diabetes.T['Male'])\n",
    "query = \"\"\"\n",
    "#Original data\n",
    "\n",
    "female = go.Bar(x=years, y=female_diabetics, name=\"Female Diabetics\", marker=dict(\n",
    "        color='#FFA500'), opacity=0.75)\n",
    "male = go.Bar(x=years, y=male_diabetics, name=\"Male Diabetics\", marker=dict(\n",
    "        color='#0000FF'), opacity=0.75)\n",
    "\n",
    "layout = go.Layout(\n",
    "    title='Age Distribution of Male Diabetics vs Female Diabetics', \n",
    "    xaxis={'title':'Age', 'tickangle': 300, 'exponentformat': 'none'}, \n",
    "    yaxis={'title':'Occurences'},\n",
    "    showlegend=True,\n",
    "    bargap=0.1,\n",
    "    barmode='overlay')\n",
    "\n",
    "data_all = [male, female]\n",
    "\n",
    "fig = go.Figure(data=data_all, layout=layout)\n",
    "\n",
    "iplot(fig, filename='overlaid histogram')\"\"\""
   ]
  },
  {
   "cell_type": "code",
   "execution_count": null,
   "metadata": {
    "collapsed": true
   },
   "outputs": [],
   "source": []
  },
  {
   "cell_type": "markdown",
   "metadata": {},
   "source": [
    "### Drugs by Gender"
   ]
  },
  {
   "cell_type": "code",
   "execution_count": 19,
   "metadata": {},
   "outputs": [],
   "source": [
    "query = \"\"\"\n",
    "\n",
    "\n",
    "SELECT\n",
    "  c.concept_name,\n",
    "  CASE p.gender_concept_id WHEN 8532 THEN 'Female' ELSE 'Male' END AS gender,\n",
    "  count(*) AS total\n",
    "FROM\n",
    "  person p,\n",
    "  drug_exposure de,\n",
    "  top_drugs td,\n",
    "  concept c\n",
    "WHERE\n",
    "  c.concept_id = de.drug_concept_id AND\n",
    "  de.drug_concept_id = td.concept_id AND\n",
    "  de.person_id = p.person_id\n",
    "GROUP BY\n",
    "  c.concept_name,\n",
    "  gender\n",
    "ORDER BY \n",
    "  c.concept_name,\n",
    "  gender;\n",
    "\"\"\"\n",
    "\n",
    "#results = pd.read_sql(query, con=db)\n",
    "#results"
   ]
  },
  {
   "cell_type": "code",
   "execution_count": null,
   "metadata": {
    "collapsed": true
   },
   "outputs": [],
   "source": []
  }
 ],
 "metadata": {
  "kernelspec": {
   "display_name": "Python 2",
   "language": "python",
   "name": "python2"
  },
  "language_info": {
   "codemirror_mode": {
    "name": "ipython",
    "version": 2
   },
   "file_extension": ".py",
   "mimetype": "text/x-python",
   "name": "python",
   "nbconvert_exporter": "python",
   "pygments_lexer": "ipython2",
   "version": "2.7.13"
  }
 },
 "nbformat": 4,
 "nbformat_minor": 2
}
